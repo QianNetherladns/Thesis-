{
 "cells": [
  {
   "cell_type": "code",
   "execution_count": 1,
   "metadata": {},
   "outputs": [],
   "source": [
    "import pandas as pd\n",
    "import numpy as np\n",
    "import matplotlib.pyplot as plt\n",
    "import pandas as pd\n",
    "import numpy as np\n",
    "import random\n",
    "import subprocess\n",
    "from sklearn.linear_model import LogisticRegression\n",
    "from sklearn.metrics import accuracy_score,f1_score, balanced_accuracy_score\n",
    "from sklearn.model_selection import StratifiedKFold,RandomizedSearchCV\n",
    "from sklearn.metrics import auc, roc_curve, confusion_matrix, classification_report\n",
    "from sklearn.feature_extraction.text import TfidfVectorizer\n",
    "# seed = 2024\n",
    "# # 固定种子，结果可重复\n",
    "# random.seed(seed)\n",
    "# np.random.seed(seed)"
   ]
  },
  {
   "cell_type": "code",
   "execution_count": 2,
   "metadata": {},
   "outputs": [
    {
     "name": "stdout",
     "output_type": "stream",
     "text": [
      "Counts of each label_sentiment:\n",
      "sentiment\n",
      "Negative    262\n",
      "Neither      99\n",
      "Positive     48\n",
      "Name: count, dtype: int64\n",
      "\n",
      "Proportions of each label_sentiment:\n",
      "sentiment\n",
      "Negative    0.640587\n",
      "Neither     0.242054\n",
      "Positive    0.117359\n",
      "Name: proportion, dtype: float64\n"
     ]
    }
   ],
   "source": [
    "data = pd.read_excel('/Users/rachael/Downloads/train_df_labelled copy.xlsx')\n",
    "#the data verified by the third person will be used as the train set finally\n",
    "file =  data[['content','sentiment']]\n",
    "file['sentiment'].value_counts()\n",
    "label_sentiment= file['sentiment'].value_counts()\n",
    "label_proportions_sentiment= file['sentiment'].value_counts(normalize=True)\n",
    "print(\"Counts of each label_sentiment:\")\n",
    "print(label_sentiment)\n",
    "print(\"\\nProportions of each label_sentiment:\")\n",
    "print(label_proportions_sentiment)"
   ]
  },
  {
   "cell_type": "code",
   "execution_count": 3,
   "metadata": {},
   "outputs": [],
   "source": [
    "import re\n",
    "def remove_urls(text):\n",
    "    # 定义URL的正则表达式\n",
    "    url_pattern = r'https?://\\S+|www\\.\\S+'\n",
    "    # 使用re.sub()函数替换URL为空字符串\n",
    "    no_url_text = re.sub(url_pattern, '', text)\n",
    "    return no_url_text\n",
    "\n",
    "def clean_text(text):\n",
    "    # Remove anything that is not a letter or space\n",
    "    clean_text = re.sub(r'[^a-zA-Z\\s]', '', text)\n",
    "    # Optional: Convert text to lower case\n",
    "    clean_text = clean_text.lower()\n",
    "    return clean_text\n",
    "\n",
    "#remove stopwords\n",
    "def remove_stopwords(text, stopwords):\n",
    "    words = re.findall(r'\\b\\w+\\b', text.lower())\n",
    "    filtered_words = [word for word in words if word not in stopwords]\n",
    "    return ' '.join(filtered_words)\n",
    "\n",
    "dutch_stopwords = ['de', 'en', 'van', 'ik', 'te', 'dat', \n",
    "                  'die', 'in', 'een', 'hij', 'het', 'niet', \n",
    "                  'zijn', 'is', 'was', 'op', 'aan', 'met', 'als', \n",
    "                  'voor', 'had', 'er', 'maar', 'om', 'hem', 'dan', \n",
    "                  'zou', 'of', 'wat', 'mijn', 'men', 'dit', 'zo', \n",
    "                  'door', 'over', 'ze', 'zich', 'bij', 'ook', 'tot', \n",
    "                  'je', 'mij', 'uit', 'der', 'daar', 'haar', 'naar', \n",
    "                  'heb', 'hoe', 'heeft', 'hebben', 'deze', 'u', 'want', \n",
    "                  'nog', 'zal', 'me', 'zij', 'nu', 'ge', 'geen', 'omdat', \n",
    "                  'iets', 'worden', 'toch', 'al', 'waren', 'veel', 'meer', \n",
    "                  'doen', 'toen', 'moet', 'ben', 'zonder', 'kan', 'hun', \n",
    "                  'dus', 'alles', 'onder', 'ja', 'eens', 'hier', 'wie', \n",
    "                  'werd', 'altijd', 'doch', 'wordt', 'wezen', 'kunnen', \n",
    "                  'ons', 'zelf', 'tegen', 'na', 'reeds', 'wil', 'kon', \n",
    "                  'niets', 'uw', 'iemand', 'geweest', 'andere']"
   ]
  },
  {
   "cell_type": "code",
   "execution_count": 4,
   "metadata": {},
   "outputs": [
    {
     "name": "stderr",
     "output_type": "stream",
     "text": [
      "/var/folders/vq/5p2k6x290wzfc5dzz5xm78bm0000gp/T/ipykernel_7256/4109358769.py:1: SettingWithCopyWarning: \n",
      "A value is trying to be set on a copy of a slice from a DataFrame.\n",
      "Try using .loc[row_indexer,col_indexer] = value instead\n",
      "\n",
      "See the caveats in the documentation: https://pandas.pydata.org/pandas-docs/stable/user_guide/indexing.html#returning-a-view-versus-a-copy\n",
      "  file['content'] = file['content'].apply(remove_urls)\n",
      "/var/folders/vq/5p2k6x290wzfc5dzz5xm78bm0000gp/T/ipykernel_7256/4109358769.py:2: SettingWithCopyWarning: \n",
      "A value is trying to be set on a copy of a slice from a DataFrame.\n",
      "Try using .loc[row_indexer,col_indexer] = value instead\n",
      "\n",
      "See the caveats in the documentation: https://pandas.pydata.org/pandas-docs/stable/user_guide/indexing.html#returning-a-view-versus-a-copy\n",
      "  file['content'] = file['content'].apply(clean_text)\n",
      "/var/folders/vq/5p2k6x290wzfc5dzz5xm78bm0000gp/T/ipykernel_7256/4109358769.py:3: SettingWithCopyWarning: \n",
      "A value is trying to be set on a copy of a slice from a DataFrame.\n",
      "Try using .loc[row_indexer,col_indexer] = value instead\n",
      "\n",
      "See the caveats in the documentation: https://pandas.pydata.org/pandas-docs/stable/user_guide/indexing.html#returning-a-view-versus-a-copy\n",
      "  file['content'] = file['content'].apply(lambda x: remove_stopwords(x, dutch_stopwords))\n",
      "/var/folders/vq/5p2k6x290wzfc5dzz5xm78bm0000gp/T/ipykernel_7256/4109358769.py:4: SettingWithCopyWarning: \n",
      "A value is trying to be set on a copy of a slice from a DataFrame.\n",
      "Try using .loc[row_indexer,col_indexer] = value instead\n",
      "\n",
      "See the caveats in the documentation: https://pandas.pydata.org/pandas-docs/stable/user_guide/indexing.html#returning-a-view-versus-a-copy\n",
      "  file['sentiment'] = file['sentiment'].replace({'Positive':0,'Negative': 1, 'Neither': 2})\n"
     ]
    }
   ],
   "source": [
    "file['content'] = file['content'].apply(remove_urls) \n",
    "file['content'] = file['content'].apply(clean_text) \n",
    "file['content'] = file['content'].apply(lambda x: remove_stopwords(x, dutch_stopwords))\n",
    "file['sentiment'] = file['sentiment'].replace({'Positive':0,'Negative': 1, 'Neither': 2})\n",
    "y = file['sentiment']\n",
    "X = file['content']"
   ]
  },
  {
   "cell_type": "code",
   "execution_count": 5,
   "metadata": {},
   "outputs": [],
   "source": [
    "# Initialize parameters\n",
    "best_score = 0\n",
    "best_params = {}\n",
    "\n",
    "#hyperparameter range\n",
    "param_dist = {\n",
    "    'C': np.logspace(-4, 4, 20),  # Inverse of regularization strength\n",
    "    'solver': ['newton-cg', 'lbfgs', 'saga'],  # Solvers that support multinomial loss\n",
    "    'max_iter': [20000, 30000,40000],  # Maximum number of iterations\n",
    "}\n",
    "\n",
    "test_scores = []\n",
    "best_params_list = []\n",
    "tfidf_vectorizer = TfidfVectorizer()\n",
    "f1_scores = []"
   ]
  },
  {
   "cell_type": "code",
   "execution_count": 6,
   "metadata": {},
   "outputs": [
    {
     "name": "stdout",
     "output_type": "stream",
     "text": [
      "generated augmented sentences with eda for /Users/rachael/Desktop/data/sentiment_0.txt to /Users/rachael/Desktop/data/augmented_train0.txt with num_aug=9\n",
      "generated augmented sentences with eda for /Users/rachael/Desktop/data/sentiment_1.txt to /Users/rachael/Desktop/data/augmented_train1.txt with num_aug=1\n",
      "generated augmented sentences with eda for /Users/rachael/Desktop/data/sentiment_2.txt to /Users/rachael/Desktop/data/augmented_train2.txt with num_aug=4\n",
      "Fitting 3 folds for each of 100 candidates, totalling 300 fits\n"
     ]
    },
    {
     "name": "stderr",
     "output_type": "stream",
     "text": [
      "/Library/Frameworks/Python.framework/Versions/3.11/lib/python3.11/site-packages/sklearn/linear_model/_sag.py:350: ConvergenceWarning: The max_iter was reached which means the coef_ did not converge\n",
      "  warnings.warn(\n",
      "/Library/Frameworks/Python.framework/Versions/3.11/lib/python3.11/site-packages/sklearn/linear_model/_sag.py:350: ConvergenceWarning: The max_iter was reached which means the coef_ did not converge\n",
      "  warnings.warn(\n",
      "/Library/Frameworks/Python.framework/Versions/3.11/lib/python3.11/site-packages/sklearn/linear_model/_sag.py:350: ConvergenceWarning: The max_iter was reached which means the coef_ did not converge\n",
      "  warnings.warn(\n"
     ]
    },
    {
     "name": "stdout",
     "output_type": "stream",
     "text": [
      "Fold F1-score: 0.33192314472060636\n",
      "Best parameters: {'solver': 'lbfgs', 'max_iter': 20000, 'C': 10000.0}\n",
      "generated augmented sentences with eda for /Users/rachael/Desktop/data/sentiment_0.txt to /Users/rachael/Desktop/data/augmented_train0.txt with num_aug=9\n",
      "generated augmented sentences with eda for /Users/rachael/Desktop/data/sentiment_1.txt to /Users/rachael/Desktop/data/augmented_train1.txt with num_aug=1\n",
      "generated augmented sentences with eda for /Users/rachael/Desktop/data/sentiment_2.txt to /Users/rachael/Desktop/data/augmented_train2.txt with num_aug=4\n",
      "Fitting 3 folds for each of 100 candidates, totalling 300 fits\n",
      "Fold F1-score: 0.4152777777777778\n",
      "Best parameters: {'solver': 'saga', 'max_iter': 40000, 'C': 545.5594781168514}\n",
      "generated augmented sentences with eda for /Users/rachael/Desktop/data/sentiment_0.txt to /Users/rachael/Desktop/data/augmented_train0.txt with num_aug=9\n",
      "generated augmented sentences with eda for /Users/rachael/Desktop/data/sentiment_1.txt to /Users/rachael/Desktop/data/augmented_train1.txt with num_aug=1\n",
      "generated augmented sentences with eda for /Users/rachael/Desktop/data/sentiment_2.txt to /Users/rachael/Desktop/data/augmented_train2.txt with num_aug=4\n",
      "Fitting 3 folds for each of 100 candidates, totalling 300 fits\n"
     ]
    },
    {
     "name": "stderr",
     "output_type": "stream",
     "text": [
      "/Library/Frameworks/Python.framework/Versions/3.11/lib/python3.11/site-packages/sklearn/linear_model/_sag.py:350: ConvergenceWarning: The max_iter was reached which means the coef_ did not converge\n",
      "  warnings.warn(\n"
     ]
    },
    {
     "name": "stdout",
     "output_type": "stream",
     "text": [
      "Fold F1-score: 0.38382913806254765\n",
      "Best parameters: {'solver': 'saga', 'max_iter': 30000, 'C': 11.288378916846883}\n",
      "generated augmented sentences with eda for /Users/rachael/Desktop/data/sentiment_0.txt to /Users/rachael/Desktop/data/augmented_train0.txt with num_aug=9\n",
      "generated augmented sentences with eda for /Users/rachael/Desktop/data/sentiment_1.txt to /Users/rachael/Desktop/data/augmented_train1.txt with num_aug=1\n",
      "generated augmented sentences with eda for /Users/rachael/Desktop/data/sentiment_2.txt to /Users/rachael/Desktop/data/augmented_train2.txt with num_aug=4\n",
      "Fitting 3 folds for each of 100 candidates, totalling 300 fits\n",
      "Fold F1-score: 0.3991172226466344\n",
      "Best parameters: {'solver': 'newton-cg', 'max_iter': 20000, 'C': 1438.44988828766}\n",
      "generated augmented sentences with eda for /Users/rachael/Desktop/data/sentiment_0.txt to /Users/rachael/Desktop/data/augmented_train0.txt with num_aug=9\n",
      "generated augmented sentences with eda for /Users/rachael/Desktop/data/sentiment_1.txt to /Users/rachael/Desktop/data/augmented_train1.txt with num_aug=1\n",
      "generated augmented sentences with eda for /Users/rachael/Desktop/data/sentiment_2.txt to /Users/rachael/Desktop/data/augmented_train2.txt with num_aug=4\n",
      "Fitting 3 folds for each of 100 candidates, totalling 300 fits\n",
      "Fold F1-score: 0.35158636897767326\n",
      "Best parameters: {'solver': 'saga', 'max_iter': 30000, 'C': 11.288378916846883}\n",
      "Mean F1-score: 0.3763467304370479\n",
      "Standard deviation of F1-scores: 0.030583128204590332\n",
      "Best parameters for each fold:\n",
      "Fold 1: {'solver': 'lbfgs', 'max_iter': 20000, 'C': 10000.0}\n",
      "Fold 2: {'solver': 'saga', 'max_iter': 40000, 'C': 545.5594781168514}\n",
      "Fold 3: {'solver': 'saga', 'max_iter': 30000, 'C': 11.288378916846883}\n",
      "Fold 4: {'solver': 'newton-cg', 'max_iter': 20000, 'C': 1438.44988828766}\n",
      "Fold 5: {'solver': 'saga', 'max_iter': 30000, 'C': 11.288378916846883}\n"
     ]
    }
   ],
   "source": [
    "# Stratified K-fold for maintaining label distribution, shuffle=True ensures different data splits in each iteration\n",
    "outer_cv = StratifiedKFold(n_splits=5, shuffle=True, random_state=42)\n",
    "inner_cv = StratifiedKFold(n_splits=3, shuffle=True, random_state=42)\n",
    "\n",
    "lr = LogisticRegression(multi_class='multinomial', random_state=42,class_weight='balanced')\n",
    "randomized_search = RandomizedSearchCV(\n",
    "        estimator=lr,\n",
    "        param_distributions=param_dist,\n",
    "        n_iter=100,  # Number of parameter settings that are sampled\n",
    "        scoring='f1_macro',\n",
    "        n_jobs=-1,  # Use all available cores\n",
    "        cv=inner_cv,\n",
    "        random_state=42,\n",
    "        verbose=1\n",
    "    )\n",
    "\n",
    "# Loop over each fold\n",
    "for train_index, test_index in outer_cv.split(X, y):\n",
    "    trainX, testX = X.iloc[train_index], X.iloc[test_index]\n",
    "    trainy, testy = y.iloc[train_index], y.iloc[test_index]\n",
    "\n",
    "    # 将 y_train 和 y_test 转换为 DataFrame\n",
    "    y_train_df = pd.DataFrame(trainy).reset_index(drop=True)\n",
    "    y_test_df = pd.DataFrame(testy).reset_index(drop=True)\n",
    "\n",
    "    # 拼接 X_train 和 y_train 以及 X_test 和 y_test\n",
    "    train_df = pd.concat([trainX.reset_index(drop=True), y_train_df], axis=1)\n",
    "    test_df = pd.concat([testX.reset_index(drop=True), y_test_df], axis=1)\n",
    "\n",
    "    # 标准化处理文本\n",
    "    train_df['content'] = train_df['content'].apply(lambda x: ' '.join(x.split()))\n",
    "    sentiment_0 = train_df[train_df['sentiment'] == 0]\n",
    "    sentiment_1 = train_df[train_df['sentiment'] == 1]\n",
    "    sentiment_2 = train_df[train_df['sentiment'] == 2]\n",
    "\n",
    "    # 数据增强\n",
    "    output_file_path0 = '/Users/rachael/Desktop/data/sentiment_0.txt'\n",
    "    with open(output_file_path0, 'w', encoding='utf-8') as f:\n",
    "        for _, row in sentiment_0.iterrows():\n",
    "            f.write(f\"{row['sentiment']}\\t{row['content']}\\n\")\n",
    "\n",
    "    subprocess.run([\n",
    "        'python', '/Users/rachael/Desktop/data/augment.py',\n",
    "        '--input', output_file_path0,\n",
    "        '--output', '/Users/rachael/Desktop/data/augmented_train0.txt',\n",
    "        '--num_aug', '9',\n",
    "        '--alpha_sr', '0.1',\n",
    "        '--alpha_rd', '0.1',\n",
    "        '--alpha_ri', '0.1',\n",
    "        '--alpha_rs', '0.1'\n",
    "    ])\n",
    "\n",
    "    output_file_path1 = '/Users/rachael/Desktop/data/sentiment_1.txt'\n",
    "    with open(output_file_path1, 'w', encoding='utf-8') as f:\n",
    "        for _, row in sentiment_1.iterrows():\n",
    "            f.write(f\"{row['sentiment']}\\t{row['content']}\\n\")\n",
    "\n",
    "    subprocess.run([\n",
    "        'python', '/Users/rachael/Desktop/data/augment.py',\n",
    "        '--input', output_file_path1,\n",
    "        '--output', '/Users/rachael/Desktop/data/augmented_train1.txt',\n",
    "        '--num_aug', '1',\n",
    "        '--alpha_sr', '0.1',\n",
    "        '--alpha_rd', '0.1',\n",
    "        '--alpha_ri', '0.1',\n",
    "        '--alpha_rs', '0.1'\n",
    "    ])\n",
    "\n",
    "    output_file_path2 = '/Users/rachael/Desktop/data/sentiment_2.txt'\n",
    "    with open(output_file_path2, 'w', encoding='utf-8') as f:\n",
    "        for _, row in sentiment_2.iterrows():\n",
    "            f.write(f\"{row['sentiment']}\\t{row['content']}\\n\")\n",
    "\n",
    "    subprocess.run([\n",
    "        'python', '/Users/rachael/Desktop/data/augment.py',\n",
    "        '--input', output_file_path2,\n",
    "        '--output', '/Users/rachael/Desktop/data/augmented_train2.txt',\n",
    "        '--num_aug', '4',\n",
    "        '--alpha_sr', '0.1',\n",
    "        '--alpha_rd', '0.1',\n",
    "        '--alpha_ri', '0.1',\n",
    "        '--alpha_rs', '0.1'\n",
    "    ])\n",
    "\n",
    "    # Load augmented data\n",
    "    file4 = pd.read_csv('/Users/rachael/Desktop/data/augmented_train0.txt', delimiter='\\t', header=None, names=['sentiment', 'content'])\n",
    "    file5 = pd.read_csv('/Users/rachael/Desktop/data/augmented_train1.txt', delimiter='\\t', header=None, names=['sentiment', 'content'])\n",
    "    file6 = pd.read_csv('/Users/rachael/Desktop/data/augmented_train2.txt', delimiter='\\t', header=None, names=['sentiment', 'content'])\n",
    "    augmented_train = pd.concat([file4, file5, file6])\n",
    "\n",
    "    # Transform the training data using TF-IDF\n",
    "    # The TF-IDF vectorize works with raw (i.e., not tokenized) text and does the tokenization on its own.\n",
    "    # The fit_transform method requires an iterable of strings.\n",
    "    #prepare for train data \n",
    "    #Extract sentences and labels\n",
    "    train_sentences = augmented_train['content'].astype(str)\n",
    "    train_labels = augmented_train['sentiment']\n",
    "    \n",
    "    # Transform the training data using TF-IDF\n",
    "    tfidf_vectorizer = TfidfVectorizer()\n",
    "    X_train_tfidf = tfidf_vectorizer.fit_transform(train_sentences)\n",
    "    \n",
    "    # Extract test sentences and labels\n",
    "    test_sentences = test_df['content'].astype(str)\n",
    "    test_labels = test_df['sentiment']\n",
    "    X_test_tfidf = tfidf_vectorizer.transform(test_sentences) \n",
    "\n",
    "    # Fit Randomized Search\n",
    "    randomized_search.fit(X_train_tfidf, train_labels)\n",
    "\n",
    "    # Get the best model from Randomized Search\n",
    "    best_model = randomized_search.best_estimator_\n",
    "    best_params = randomized_search.best_params_\n",
    "    best_score = randomized_search.best_score_\n",
    "\n",
    "    # Evaluate on the test set\n",
    "    test_predictions = best_model.predict(X_test_tfidf)\n",
    "    test_f1_score = f1_score(test_labels, test_predictions, average='macro')\n",
    "\n",
    "    f1_scores.append(test_f1_score)\n",
    "    best_params_list.append(best_params)\n",
    "\n",
    "    print(f\"Fold F1-score: {test_f1_score}\")\n",
    "    print(f\"Best parameters: {best_params}\")\n",
    "\n",
    "mean_f1_score = np.mean(f1_scores)\n",
    "std_f1_score = np.std(f1_scores)\n",
    "\n",
    "print(f\"Mean F1-score: {mean_f1_score}\")\n",
    "print(f\"Standard deviation of F1-scores: {std_f1_score}\")\n",
    "print(\"Best parameters for each fold:\")\n",
    "for i, params in enumerate(best_params_list):\n",
    "    print(f\"Fold {i + 1}: {params}\")"
   ]
  },
  {
   "cell_type": "code",
   "execution_count": 7,
   "metadata": {},
   "outputs": [
    {
     "name": "stdout",
     "output_type": "stream",
     "text": [
      "Most common best parameters: {'C': 11.288378916846883, 'max_iter': 30000, 'solver': 'saga'}\n"
     ]
    }
   ],
   "source": [
    "from collections import Counter\n",
    "best_params_counter = Counter(tuple(sorted(params.items())) for params in best_params_list)\n",
    "most_common_params = dict(best_params_counter.most_common(1)[0][0])\n",
    "\n",
    "print(\"Most common best parameters:\", most_common_params)"
   ]
  },
  {
   "cell_type": "code",
   "execution_count": 5,
   "metadata": {},
   "outputs": [],
   "source": [
    "most_common_params = {'solver': 'saga', 'max_iter': 40000, 'C': 545.5594781168514}\n"
   ]
  },
  {
   "cell_type": "code",
   "execution_count": 6,
   "metadata": {},
   "outputs": [
    {
     "name": "stderr",
     "output_type": "stream",
     "text": [
      "/Library/Frameworks/Python.framework/Versions/3.11/lib/python3.11/site-packages/sklearn/linear_model/_sag.py:350: ConvergenceWarning: The max_iter was reached which means the coef_ did not converge\n",
      "  warnings.warn(\n"
     ]
    },
    {
     "data": {
      "text/html": [
       "<style>#sk-container-id-1 {color: black;}#sk-container-id-1 pre{padding: 0;}#sk-container-id-1 div.sk-toggleable {background-color: white;}#sk-container-id-1 label.sk-toggleable__label {cursor: pointer;display: block;width: 100%;margin-bottom: 0;padding: 0.3em;box-sizing: border-box;text-align: center;}#sk-container-id-1 label.sk-toggleable__label-arrow:before {content: \"▸\";float: left;margin-right: 0.25em;color: #696969;}#sk-container-id-1 label.sk-toggleable__label-arrow:hover:before {color: black;}#sk-container-id-1 div.sk-estimator:hover label.sk-toggleable__label-arrow:before {color: black;}#sk-container-id-1 div.sk-toggleable__content {max-height: 0;max-width: 0;overflow: hidden;text-align: left;background-color: #f0f8ff;}#sk-container-id-1 div.sk-toggleable__content pre {margin: 0.2em;color: black;border-radius: 0.25em;background-color: #f0f8ff;}#sk-container-id-1 input.sk-toggleable__control:checked~div.sk-toggleable__content {max-height: 200px;max-width: 100%;overflow: auto;}#sk-container-id-1 input.sk-toggleable__control:checked~label.sk-toggleable__label-arrow:before {content: \"▾\";}#sk-container-id-1 div.sk-estimator input.sk-toggleable__control:checked~label.sk-toggleable__label {background-color: #d4ebff;}#sk-container-id-1 div.sk-label input.sk-toggleable__control:checked~label.sk-toggleable__label {background-color: #d4ebff;}#sk-container-id-1 input.sk-hidden--visually {border: 0;clip: rect(1px 1px 1px 1px);clip: rect(1px, 1px, 1px, 1px);height: 1px;margin: -1px;overflow: hidden;padding: 0;position: absolute;width: 1px;}#sk-container-id-1 div.sk-estimator {font-family: monospace;background-color: #f0f8ff;border: 1px dotted black;border-radius: 0.25em;box-sizing: border-box;margin-bottom: 0.5em;}#sk-container-id-1 div.sk-estimator:hover {background-color: #d4ebff;}#sk-container-id-1 div.sk-parallel-item::after {content: \"\";width: 100%;border-bottom: 1px solid gray;flex-grow: 1;}#sk-container-id-1 div.sk-label:hover label.sk-toggleable__label {background-color: #d4ebff;}#sk-container-id-1 div.sk-serial::before {content: \"\";position: absolute;border-left: 1px solid gray;box-sizing: border-box;top: 0;bottom: 0;left: 50%;z-index: 0;}#sk-container-id-1 div.sk-serial {display: flex;flex-direction: column;align-items: center;background-color: white;padding-right: 0.2em;padding-left: 0.2em;position: relative;}#sk-container-id-1 div.sk-item {position: relative;z-index: 1;}#sk-container-id-1 div.sk-parallel {display: flex;align-items: stretch;justify-content: center;background-color: white;position: relative;}#sk-container-id-1 div.sk-item::before, #sk-container-id-1 div.sk-parallel-item::before {content: \"\";position: absolute;border-left: 1px solid gray;box-sizing: border-box;top: 0;bottom: 0;left: 50%;z-index: -1;}#sk-container-id-1 div.sk-parallel-item {display: flex;flex-direction: column;z-index: 1;position: relative;background-color: white;}#sk-container-id-1 div.sk-parallel-item:first-child::after {align-self: flex-end;width: 50%;}#sk-container-id-1 div.sk-parallel-item:last-child::after {align-self: flex-start;width: 50%;}#sk-container-id-1 div.sk-parallel-item:only-child::after {width: 0;}#sk-container-id-1 div.sk-dashed-wrapped {border: 1px dashed gray;margin: 0 0.4em 0.5em 0.4em;box-sizing: border-box;padding-bottom: 0.4em;background-color: white;}#sk-container-id-1 div.sk-label label {font-family: monospace;font-weight: bold;display: inline-block;line-height: 1.2em;}#sk-container-id-1 div.sk-label-container {text-align: center;}#sk-container-id-1 div.sk-container {/* jupyter's `normalize.less` sets `[hidden] { display: none; }` but bootstrap.min.css set `[hidden] { display: none !important; }` so we also need the `!important` here to be able to override the default hidden behavior on the sphinx rendered scikit-learn.org. See: https://github.com/scikit-learn/scikit-learn/issues/21755 */display: inline-block !important;position: relative;}#sk-container-id-1 div.sk-text-repr-fallback {display: none;}</style><div id=\"sk-container-id-1\" class=\"sk-top-container\"><div class=\"sk-text-repr-fallback\"><pre>LogisticRegression(C=545.5594781168514, class_weight=&#x27;balanced&#x27;, max_iter=40000,\n",
       "                   multi_class=&#x27;multinomial&#x27;, random_state=42, solver=&#x27;saga&#x27;)</pre><b>In a Jupyter environment, please rerun this cell to show the HTML representation or trust the notebook. <br />On GitHub, the HTML representation is unable to render, please try loading this page with nbviewer.org.</b></div><div class=\"sk-container\" hidden><div class=\"sk-item\"><div class=\"sk-estimator sk-toggleable\"><input class=\"sk-toggleable__control sk-hidden--visually\" id=\"sk-estimator-id-1\" type=\"checkbox\" checked><label for=\"sk-estimator-id-1\" class=\"sk-toggleable__label sk-toggleable__label-arrow\">LogisticRegression</label><div class=\"sk-toggleable__content\"><pre>LogisticRegression(C=545.5594781168514, class_weight=&#x27;balanced&#x27;, max_iter=40000,\n",
       "                   multi_class=&#x27;multinomial&#x27;, random_state=42, solver=&#x27;saga&#x27;)</pre></div></div></div></div></div>"
      ],
      "text/plain": [
       "LogisticRegression(C=545.5594781168514, class_weight='balanced', max_iter=40000,\n",
       "                   multi_class='multinomial', random_state=42, solver='saga')"
      ]
     },
     "execution_count": 6,
     "metadata": {},
     "output_type": "execute_result"
    }
   ],
   "source": [
    "#train the entire model \n",
    "best_params =  {'solver': 'lbfgs', 'max_iter': 5000, 'C': 4.281332398719396}\n",
    "file = pd.read_excel('/Users/rachael/Downloads/train_df_labelled copy.xlsx')\n",
    "file['content'] = file['content'].apply(remove_urls)\n",
    "file['content'] = file['content'].apply(clean_text)\n",
    "file['content'] = file['content'].apply(lambda x: remove_stopwords(x, dutch_stopwords))\n",
    "file['sentiment'] = file['sentiment'].replace({'Positive': 0, 'Negative': 1, 'Neither': 2})\n",
    "y = file['sentiment']\n",
    "X = file['content'] \n",
    "tfidf_vectorizer = TfidfVectorizer()\n",
    "X_train_tfidf = tfidf_vectorizer.fit_transform(X)\n",
    "final_model = LogisticRegression(multi_class='multinomial', random_state=42, **most_common_params,class_weight='balanced')\n",
    "final_model.fit(X_train_tfidf, y)\n"
   ]
  },
  {
   "cell_type": "code",
   "execution_count": 7,
   "metadata": {},
   "outputs": [],
   "source": [
    "#apply the model to the test set\n",
    "test = pd.read_excel('/Users/rachael/Downloads/test_df_labelled.xlsx')\n",
    "test = test[['content', 'sentiment']]\n",
    "test['content'] = test['content'].apply(remove_urls)\n",
    "test['content'] = test['content'].apply(clean_text)\n",
    "test['content'] = test['content'].apply(lambda x: remove_stopwords(x, dutch_stopwords))\n",
    "test['sentiment'] = test['sentiment'].replace({'Positive': 0, 'Negative': 1, 'Neither': 2})\n",
    "\n",
    "# Extract features and labels from test data\n",
    "y_test = test['sentiment'].astype(int)\n",
    "X_test = test['content']\n",
    "\n",
    "# Transform the test data using the same TF-IDF vectorizer\n",
    "X_test_tfidf = tfidf_vectorizer.transform(X_test)\n",
    "\n",
    "# Make predictions on the test data using the trained model\n",
    "test_predictions = final_model.predict(X_test_tfidf)\n",
    "test_score = accuracy_score(y_test, test_predictions)\n",
    "class_report = classification_report(y_test, test_predictions)"
   ]
  },
  {
   "cell_type": "code",
   "execution_count": 8,
   "metadata": {},
   "outputs": [
    {
     "name": "stdout",
     "output_type": "stream",
     "text": [
      "              precision    recall  f1-score   support\n",
      "\n",
      "           0       0.08      0.03      0.04        38\n",
      "           1       0.63      0.84      0.72       245\n",
      "           2       0.38      0.20      0.26       124\n",
      "\n",
      "    accuracy                           0.57       407\n",
      "   macro avg       0.36      0.36      0.34       407\n",
      "weighted avg       0.50      0.57      0.52       407\n",
      "\n"
     ]
    }
   ],
   "source": [
    "\n",
    "print(class_report)"
   ]
  }
 ],
 "metadata": {
  "kernelspec": {
   "display_name": "Python 3",
   "language": "python",
   "name": "python3"
  },
  "language_info": {
   "codemirror_mode": {
    "name": "ipython",
    "version": 3
   },
   "file_extension": ".py",
   "mimetype": "text/x-python",
   "name": "python",
   "nbconvert_exporter": "python",
   "pygments_lexer": "ipython3",
   "version": "3.11.1"
  }
 },
 "nbformat": 4,
 "nbformat_minor": 2
}
