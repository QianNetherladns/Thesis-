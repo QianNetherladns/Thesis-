{
 "cells": [
  {
   "cell_type": "code",
   "execution_count": 1,
   "metadata": {},
   "outputs": [],
   "source": [
    "import pandas as pd\n",
    "import numpy as np\n",
    "import matplotlib.pyplot as plt\n",
    "import pandas as pd\n",
    "import numpy as np\n",
    "import subprocess\n",
    "from sklearn.linear_model import LogisticRegression\n",
    "from sklearn.metrics import accuracy_score,f1_score,balanced_accuracy_score\n",
    "from sklearn.model_selection import StratifiedKFold,RandomizedSearchCV\n",
    "from sklearn.preprocessing import StandardScaler\n",
    "from sklearn.metrics import auc, roc_curve, confusion_matrix, classification_report"
   ]
  },
  {
   "cell_type": "code",
   "execution_count": 2,
   "metadata": {},
   "outputs": [
    {
     "name": "stdout",
     "output_type": "stream",
     "text": [
      "Counts of each label_stance:\n",
      "stance\n",
      "Aganist    186\n",
      "Neither    140\n",
      "Support     82\n",
      "Name: count, dtype: int64\n",
      "\n",
      "Proportions of each label_stance:\n",
      "stance\n",
      "Aganist    0.455882\n",
      "Neither    0.343137\n",
      "Support    0.200980\n",
      "Name: proportion, dtype: float64\n"
     ]
    }
   ],
   "source": [
    "data = pd.read_excel('/Users/rachael/Downloads/train_df_labelled.xlsx')\n",
    "#the data verified by the third person will be used as the train set finally\n",
    "file =  data[['content','stance']]\n",
    "file['stance'].value_counts()\n",
    "label_stance= file['stance'].value_counts()\n",
    "label_proportions_stance= file['stance'].value_counts(normalize=True)\n",
    "print(\"Counts of each label_stance:\")\n",
    "print(label_stance)\n",
    "print(\"\\nProportions of each label_stance:\")\n",
    "print(label_proportions_stance)"
   ]
  },
  {
   "cell_type": "code",
   "execution_count": 3,
   "metadata": {},
   "outputs": [],
   "source": [
    "import re\n",
    "def remove_urls(text):\n",
    "    # 定义URL的正则表达式\n",
    "    url_pattern = r'https?://\\S+|www\\.\\S+'\n",
    "    # 使用re.sub()函数替换URL为空字符串\n",
    "    no_url_text = re.sub(url_pattern, '', text)\n",
    "    return no_url_text\n",
    "\n",
    "def clean_text(text):\n",
    "    # Remove anything that is not a letter or space\n",
    "    clean_text = re.sub(r'[^a-zA-Z\\s]', '', text)\n",
    "    # Optional: Convert text to lower case\n",
    "    clean_text = clean_text.lower()\n",
    "    return clean_text"
   ]
  },
  {
   "cell_type": "code",
   "execution_count": 4,
   "metadata": {},
   "outputs": [
    {
     "name": "stderr",
     "output_type": "stream",
     "text": [
      "/var/folders/vq/5p2k6x290wzfc5dzz5xm78bm0000gp/T/ipykernel_10127/271919431.py:1: SettingWithCopyWarning: \n",
      "A value is trying to be set on a copy of a slice from a DataFrame.\n",
      "Try using .loc[row_indexer,col_indexer] = value instead\n",
      "\n",
      "See the caveats in the documentation: https://pandas.pydata.org/pandas-docs/stable/user_guide/indexing.html#returning-a-view-versus-a-copy\n",
      "  file['content'] = file['content'].apply(remove_urls)\n",
      "/var/folders/vq/5p2k6x290wzfc5dzz5xm78bm0000gp/T/ipykernel_10127/271919431.py:2: SettingWithCopyWarning: \n",
      "A value is trying to be set on a copy of a slice from a DataFrame.\n",
      "Try using .loc[row_indexer,col_indexer] = value instead\n",
      "\n",
      "See the caveats in the documentation: https://pandas.pydata.org/pandas-docs/stable/user_guide/indexing.html#returning-a-view-versus-a-copy\n",
      "  file['content'] = file['content'].apply(clean_text)\n",
      "/var/folders/vq/5p2k6x290wzfc5dzz5xm78bm0000gp/T/ipykernel_10127/271919431.py:3: SettingWithCopyWarning: \n",
      "A value is trying to be set on a copy of a slice from a DataFrame.\n",
      "Try using .loc[row_indexer,col_indexer] = value instead\n",
      "\n",
      "See the caveats in the documentation: https://pandas.pydata.org/pandas-docs/stable/user_guide/indexing.html#returning-a-view-versus-a-copy\n",
      "  file['stance'] = file['stance'].replace({'Support':0,'Aganist': 1, 'Neither': 2})\n"
     ]
    }
   ],
   "source": [
    "file['content'] = file['content'].apply(remove_urls) \n",
    "file['content'] = file['content'].apply(clean_text) \n",
    "file['stance'] = file['stance'].replace({'Support':0,'Aganist': 1, 'Neither': 2})\n",
    "y = file['stance']\n",
    "X = file['content']"
   ]
  },
  {
   "cell_type": "code",
   "execution_count": 5,
   "metadata": {},
   "outputs": [
    {
     "name": "stderr",
     "output_type": "stream",
     "text": [
      "Warning : `load_model` does not return WordVectorModel or SupervisedModel any more, but a `FastText` object which is very similar.\n"
     ]
    }
   ],
   "source": [
    "import fasttext\n",
    "\n",
    "# Path to your FastText pre-trained word embedding file\n",
    "fasttext_model_path = '/Users/rachael/Downloads/cc.nl.300.bin'\n",
    "\n",
    "# Load the FastText model\n",
    "ft = fasttext.load_model(fasttext_model_path)"
   ]
  },
  {
   "cell_type": "code",
   "execution_count": 6,
   "metadata": {},
   "outputs": [],
   "source": [
    "import spacy\n",
    "nlp = spacy.load(\"nl_core_news_sm\")\n",
    "#tokenize\n",
    "def tokenize(text):\n",
    "    doc = nlp(text)\n",
    "    return [token.text for token in doc]\n",
    "\n",
    "def sentence_to_avg_vec(tokens, model):\n",
    "    vector_size = model.get_dimension()\n",
    "    vec = np.zeros(vector_size)\n",
    "    count = 0\n",
    "    for token in tokens:\n",
    "        vec += model.get_word_vector(token)\n",
    "        count += 1\n",
    "    if count != 0:\n",
    "        vec /= count\n",
    "    return vec"
   ]
  },
  {
   "cell_type": "code",
   "execution_count": 7,
   "metadata": {},
   "outputs": [],
   "source": [
    "# Initialize parameters\n",
    "best_score = 0\n",
    "best_params = {}\n",
    "\n",
    "#hyperparameter range\n",
    "param_dist = {\n",
    "    'C': np.logspace(-4, 4, 20),  # Inverse of regularization strength\n",
    "    'solver': ['newton-cg', 'lbfgs', 'saga'],  # Solvers that support multinomial loss\n",
    "    'max_iter': [20000, 30000,40000],  # Maximum number of iterations\n",
    "}\n",
    "\n",
    "test_scores = []\n",
    "best_params_list = []\n",
    "f1_scores = []"
   ]
  },
  {
   "cell_type": "markdown",
   "metadata": {},
   "source": [
    "withouteda"
   ]
  },
  {
   "cell_type": "code",
   "execution_count": 13,
   "metadata": {},
   "outputs": [
    {
     "name": "stdout",
     "output_type": "stream",
     "text": [
      "Fitting 3 folds for each of 100 candidates, totalling 300 fits\n",
      "Fold test score: 0.393509620417478\n",
      "Best parameters: {'solver': 'newton-cg', 'max_iter': 40000, 'C': 0.23357214690901212}\n",
      "Fitting 3 folds for each of 100 candidates, totalling 300 fits\n",
      "Fold test score: 0.4670465337132004\n",
      "Best parameters: {'solver': 'lbfgs', 'max_iter': 40000, 'C': 206.913808111479}\n",
      "Fitting 3 folds for each of 100 candidates, totalling 300 fits\n",
      "Fold test score: 0.44711120988020125\n",
      "Best parameters: {'solver': 'newton-cg', 'max_iter': 40000, 'C': 0.23357214690901212}\n",
      "Fitting 3 folds for each of 100 candidates, totalling 300 fits\n",
      "Fold test score: 0.34987468671679195\n",
      "Best parameters: {'solver': 'saga', 'max_iter': 20000, 'C': 10000.0}\n",
      "Fitting 3 folds for each of 100 candidates, totalling 300 fits\n",
      "Fold test score: 0.5541130604288499\n",
      "Best parameters: {'solver': 'lbfgs', 'max_iter': 40000, 'C': 206.913808111479}\n",
      "Mean test score: 0.44233102223130427\n",
      "Standard deviation of test scores: 0.06936949476132445\n",
      "Best parameters for each fold:\n",
      "Fold 1: {'solver': 'newton-cg', 'max_iter': 40000, 'C': 0.23357214690901212}\n",
      "Fold 2: {'solver': 'lbfgs', 'max_iter': 40000, 'C': 206.913808111479}\n",
      "Fold 3: {'solver': 'newton-cg', 'max_iter': 40000, 'C': 0.23357214690901212}\n",
      "Fold 4: {'solver': 'saga', 'max_iter': 20000, 'C': 10000.0}\n",
      "Fold 5: {'solver': 'lbfgs', 'max_iter': 40000, 'C': 206.913808111479}\n"
     ]
    }
   ],
   "source": [
    "# Stratified K-fold for maintaining label distribution, shuffle=True ensures different data splits in each iteration\n",
    "outer_cv = StratifiedKFold(n_splits=5, shuffle=True, random_state=42)\n",
    "inner_cv = StratifiedKFold(n_splits=3, shuffle=True, random_state=42)\n",
    "\n",
    "lr = LogisticRegression(multi_class='multinomial', random_state=42,class_weight='balanced')\n",
    "randomized_search = RandomizedSearchCV(\n",
    "        estimator=lr,\n",
    "        param_distributions=param_dist,\n",
    "        n_iter=100,  # Number of parameter settings that are sampled\n",
    "        scoring='f1_macro',\n",
    "        n_jobs=-1,  # Use all available cores\n",
    "        cv=inner_cv,\n",
    "        random_state=42,\n",
    "        verbose=1\n",
    "    )\n",
    "\n",
    "# Loop over each fold\n",
    "for train_index, test_index in outer_cv.split(X, y):\n",
    "    trainX, testX = X.iloc[train_index], X.iloc[test_index]\n",
    "    trainy, testy = y.iloc[train_index], y.iloc[test_index]\n",
    "\n",
    "         # 进行tokenize\n",
    "    X_train_tokenized = trainX.apply(tokenize)\n",
    "    X_test_tokenized = testX.apply(tokenize)\n",
    "    train_vectors = np.array([sentence_to_avg_vec(sentence,ft) for sentence in X_train_tokenized])\n",
    "    test_vectors = np.array([sentence_to_avg_vec(sentence,ft) for sentence in X_test_tokenized])\n",
    "\n",
    "    inner_cv = StratifiedKFold(n_splits=3, shuffle=True, random_state=42)\n",
    "    lr = LogisticRegression(multi_class='multinomial', random_state=42,class_weight='balanced')\n",
    "    randomized_search = RandomizedSearchCV(\n",
    "        estimator=lr,\n",
    "        param_distributions=param_dist,\n",
    "        n_iter=100,  # Number of parameter settings that are sampled\n",
    "        scoring='f1_macro',\n",
    "        n_jobs=-1,  # Use all available cores\n",
    "        cv=inner_cv,\n",
    "        random_state=42,\n",
    "        verbose=1\n",
    "    )\n",
    "\n",
    "    # Fit Randomized Search\n",
    "    randomized_search.fit(train_vectors, trainy)\n",
    "\n",
    "   # Get the best model from Randomized Search\n",
    "    best_model = randomized_search.best_estimator_\n",
    "    best_params = randomized_search.best_params_\n",
    "    best_score = randomized_search.best_score_\n",
    "\n",
    "    # Evaluate on the test set\n",
    "    test_predictions = best_model.predict(test_vectors)\n",
    "    test_score = f1_score(testy, test_predictions,average='macro')\n",
    "\n",
    "    test_scores.append(test_score)\n",
    "    best_params_list.append(best_params)\n",
    "\n",
    "    print(f\"Fold test score: {test_score}\")\n",
    "    print(f\"Best parameters: {best_params}\")\n",
    "\n",
    "# Summarize the results\n",
    "mean_test_score = np.mean(test_scores)\n",
    "std_test_score = np.std(test_scores)\n",
    "\n",
    "print(f\"Mean test score: {mean_test_score}\")\n",
    "print(f\"Standard deviation of test scores: {std_test_score}\")\n",
    "print(\"Best parameters for each fold:\")\n",
    "for i, params in enumerate(best_params_list):\n",
    "    print(f\"Fold {i + 1}: {params}\")"
   ]
  },
  {
   "cell_type": "code",
   "execution_count": 8,
   "metadata": {},
   "outputs": [],
   "source": [
    "params = {'solver': 'lbfgs', 'max_iter': 40000, 'C': 206.913808111479}\n",
    "\n"
   ]
  },
  {
   "cell_type": "code",
   "execution_count": 9,
   "metadata": {},
   "outputs": [
    {
     "data": {
      "text/html": [
       "<style>#sk-container-id-1 {color: black;}#sk-container-id-1 pre{padding: 0;}#sk-container-id-1 div.sk-toggleable {background-color: white;}#sk-container-id-1 label.sk-toggleable__label {cursor: pointer;display: block;width: 100%;margin-bottom: 0;padding: 0.3em;box-sizing: border-box;text-align: center;}#sk-container-id-1 label.sk-toggleable__label-arrow:before {content: \"▸\";float: left;margin-right: 0.25em;color: #696969;}#sk-container-id-1 label.sk-toggleable__label-arrow:hover:before {color: black;}#sk-container-id-1 div.sk-estimator:hover label.sk-toggleable__label-arrow:before {color: black;}#sk-container-id-1 div.sk-toggleable__content {max-height: 0;max-width: 0;overflow: hidden;text-align: left;background-color: #f0f8ff;}#sk-container-id-1 div.sk-toggleable__content pre {margin: 0.2em;color: black;border-radius: 0.25em;background-color: #f0f8ff;}#sk-container-id-1 input.sk-toggleable__control:checked~div.sk-toggleable__content {max-height: 200px;max-width: 100%;overflow: auto;}#sk-container-id-1 input.sk-toggleable__control:checked~label.sk-toggleable__label-arrow:before {content: \"▾\";}#sk-container-id-1 div.sk-estimator input.sk-toggleable__control:checked~label.sk-toggleable__label {background-color: #d4ebff;}#sk-container-id-1 div.sk-label input.sk-toggleable__control:checked~label.sk-toggleable__label {background-color: #d4ebff;}#sk-container-id-1 input.sk-hidden--visually {border: 0;clip: rect(1px 1px 1px 1px);clip: rect(1px, 1px, 1px, 1px);height: 1px;margin: -1px;overflow: hidden;padding: 0;position: absolute;width: 1px;}#sk-container-id-1 div.sk-estimator {font-family: monospace;background-color: #f0f8ff;border: 1px dotted black;border-radius: 0.25em;box-sizing: border-box;margin-bottom: 0.5em;}#sk-container-id-1 div.sk-estimator:hover {background-color: #d4ebff;}#sk-container-id-1 div.sk-parallel-item::after {content: \"\";width: 100%;border-bottom: 1px solid gray;flex-grow: 1;}#sk-container-id-1 div.sk-label:hover label.sk-toggleable__label {background-color: #d4ebff;}#sk-container-id-1 div.sk-serial::before {content: \"\";position: absolute;border-left: 1px solid gray;box-sizing: border-box;top: 0;bottom: 0;left: 50%;z-index: 0;}#sk-container-id-1 div.sk-serial {display: flex;flex-direction: column;align-items: center;background-color: white;padding-right: 0.2em;padding-left: 0.2em;position: relative;}#sk-container-id-1 div.sk-item {position: relative;z-index: 1;}#sk-container-id-1 div.sk-parallel {display: flex;align-items: stretch;justify-content: center;background-color: white;position: relative;}#sk-container-id-1 div.sk-item::before, #sk-container-id-1 div.sk-parallel-item::before {content: \"\";position: absolute;border-left: 1px solid gray;box-sizing: border-box;top: 0;bottom: 0;left: 50%;z-index: -1;}#sk-container-id-1 div.sk-parallel-item {display: flex;flex-direction: column;z-index: 1;position: relative;background-color: white;}#sk-container-id-1 div.sk-parallel-item:first-child::after {align-self: flex-end;width: 50%;}#sk-container-id-1 div.sk-parallel-item:last-child::after {align-self: flex-start;width: 50%;}#sk-container-id-1 div.sk-parallel-item:only-child::after {width: 0;}#sk-container-id-1 div.sk-dashed-wrapped {border: 1px dashed gray;margin: 0 0.4em 0.5em 0.4em;box-sizing: border-box;padding-bottom: 0.4em;background-color: white;}#sk-container-id-1 div.sk-label label {font-family: monospace;font-weight: bold;display: inline-block;line-height: 1.2em;}#sk-container-id-1 div.sk-label-container {text-align: center;}#sk-container-id-1 div.sk-container {/* jupyter's `normalize.less` sets `[hidden] { display: none; }` but bootstrap.min.css set `[hidden] { display: none !important; }` so we also need the `!important` here to be able to override the default hidden behavior on the sphinx rendered scikit-learn.org. See: https://github.com/scikit-learn/scikit-learn/issues/21755 */display: inline-block !important;position: relative;}#sk-container-id-1 div.sk-text-repr-fallback {display: none;}</style><div id=\"sk-container-id-1\" class=\"sk-top-container\"><div class=\"sk-text-repr-fallback\"><pre>LogisticRegression(C=206.913808111479, class_weight=&#x27;balanced&#x27;, max_iter=40000,\n",
       "                   multi_class=&#x27;multinomial&#x27;, random_state=42)</pre><b>In a Jupyter environment, please rerun this cell to show the HTML representation or trust the notebook. <br />On GitHub, the HTML representation is unable to render, please try loading this page with nbviewer.org.</b></div><div class=\"sk-container\" hidden><div class=\"sk-item\"><div class=\"sk-estimator sk-toggleable\"><input class=\"sk-toggleable__control sk-hidden--visually\" id=\"sk-estimator-id-1\" type=\"checkbox\" checked><label for=\"sk-estimator-id-1\" class=\"sk-toggleable__label sk-toggleable__label-arrow\">LogisticRegression</label><div class=\"sk-toggleable__content\"><pre>LogisticRegression(C=206.913808111479, class_weight=&#x27;balanced&#x27;, max_iter=40000,\n",
       "                   multi_class=&#x27;multinomial&#x27;, random_state=42)</pre></div></div></div></div></div>"
      ],
      "text/plain": [
       "LogisticRegression(C=206.913808111479, class_weight='balanced', max_iter=40000,\n",
       "                   multi_class='multinomial', random_state=42)"
      ]
     },
     "execution_count": 9,
     "metadata": {},
     "output_type": "execute_result"
    }
   ],
   "source": [
    "X_sentences = [item for item in list(X)]\n",
    "X_tokenized = X.apply(tokenize)\n",
    "X_embeddings = np.array([sentence_to_avg_vec(sentence,ft) for sentence in X_tokenized])\n",
    "\n",
    "final_model = LogisticRegression(multi_class='multinomial', random_state=42,class_weight='balanced',**params)\n",
    "final_model.fit(X_embeddings, y)"
   ]
  },
  {
   "cell_type": "code",
   "execution_count": 10,
   "metadata": {},
   "outputs": [
    {
     "name": "stdout",
     "output_type": "stream",
     "text": [
      "              precision    recall  f1-score   support\n",
      "\n",
      "           0       0.31      0.43      0.36        76\n",
      "           1       0.56      0.55      0.56       191\n",
      "           2       0.60      0.49      0.54       140\n",
      "\n",
      "    accuracy                           0.51       407\n",
      "   macro avg       0.49      0.49      0.48       407\n",
      "weighted avg       0.53      0.51      0.51       407\n",
      "\n"
     ]
    }
   ],
   "source": [
    "test = pd.read_excel('/Users/rachael/Downloads/test_df_labelled.xlsx')\n",
    "#process test data \n",
    "test = test[['content','stance']]\n",
    "test['content'] = test['content'].apply(remove_urls) \n",
    "test['content'] = test['content'].apply(clean_text) \n",
    "test['stance'] = test['stance'].replace({'Support':0,'Aganist': 1, 'Neither': 2})\n",
    "test_tokenized = test['content'].apply(tokenize)\n",
    "test_embedding = np.array([sentence_to_avg_vec(sentence,ft) for sentence in test_tokenized])\n",
    "#predict \n",
    "test_predictions = final_model.predict(test_embedding)\n",
    "conf_matrix = confusion_matrix(test['stance'], test_predictions)\n",
    "class_report = classification_report(test['stance'], test_predictions)\n",
    "print(class_report)"
   ]
  },
  {
   "cell_type": "code",
   "execution_count": 18,
   "metadata": {},
   "outputs": [
    {
     "data": {
      "image/png": "[encoded data removed]",
      "text/plain": [
       "<Figure size 800x600 with 2 Axes>"
      ]
     },
     "metadata": {},
     "output_type": "display_data"
    },
    {
     "ename": "ValueError",
     "evalue": "DataFrame constructor not properly called!",
     "output_type": "error",
     "traceback": [
      "\u001b[0;31m---------------------------------------------------------------------------\u001b[0m",
      "\u001b[0;31mValueError\u001b[0m                                Traceback (most recent call last)",
      "\u001b[0;32m/var/folders/vq/5p2k6x290wzfc5dzz5xm78bm0000gp/T/ipykernel_10127/2700790132.py\u001b[0m in \u001b[0;36m?\u001b[0;34m()\u001b[0m\n\u001b[1;32m     10\u001b[0m \u001b[0mplt\u001b[0m\u001b[0;34m.\u001b[0m\u001b[0mylabel\u001b[0m\u001b[0;34m(\u001b[0m\u001b[0;34m'True'\u001b[0m\u001b[0;34m)\u001b[0m\u001b[0;34m\u001b[0m\u001b[0;34m\u001b[0m\u001b[0m\n\u001b[1;32m     11\u001b[0m \u001b[0mplt\u001b[0m\u001b[0;34m.\u001b[0m\u001b[0mshow\u001b[0m\u001b[0;34m(\u001b[0m\u001b[0;34m)\u001b[0m\u001b[0;34m\u001b[0m\u001b[0;34m\u001b[0m\u001b[0m\n\u001b[1;32m     12\u001b[0m \u001b[0;34m\u001b[0m\u001b[0m\n\u001b[1;32m     13\u001b[0m \u001b[0;31m# 绘制分类报告热图\u001b[0m\u001b[0;34m\u001b[0m\u001b[0;34m\u001b[0m\u001b[0m\n\u001b[0;32m---> 14\u001b[0;31m \u001b[0mreport_df\u001b[0m \u001b[0;34m=\u001b[0m \u001b[0mpd\u001b[0m\u001b[0;34m.\u001b[0m\u001b[0mDataFrame\u001b[0m\u001b[0;34m(\u001b[0m\u001b[0mclass_report\u001b[0m\u001b[0;34m)\u001b[0m\u001b[0;34m.\u001b[0m\u001b[0mtranspose\u001b[0m\u001b[0;34m(\u001b[0m\u001b[0;34m)\u001b[0m\u001b[0;34m\u001b[0m\u001b[0;34m\u001b[0m\u001b[0m\n\u001b[0m\u001b[1;32m     15\u001b[0m \u001b[0;34m\u001b[0m\u001b[0m\n\u001b[1;32m     16\u001b[0m \u001b[0mplt\u001b[0m\u001b[0;34m.\u001b[0m\u001b[0mfigure\u001b[0m\u001b[0;34m(\u001b[0m\u001b[0mfigsize\u001b[0m\u001b[0;34m=\u001b[0m\u001b[0;34m(\u001b[0m\u001b[0;36m10\u001b[0m\u001b[0;34m,\u001b[0m \u001b[0;36m6\u001b[0m\u001b[0;34m)\u001b[0m\u001b[0;34m)\u001b[0m\u001b[0;34m\u001b[0m\u001b[0;34m\u001b[0m\u001b[0m\n\u001b[1;32m     17\u001b[0m \u001b[0msns\u001b[0m\u001b[0;34m.\u001b[0m\u001b[0mheatmap\u001b[0m\u001b[0;34m(\u001b[0m\u001b[0mreport_df\u001b[0m\u001b[0;34m.\u001b[0m\u001b[0miloc\u001b[0m\u001b[0;34m[\u001b[0m\u001b[0;34m:\u001b[0m\u001b[0;34m-\u001b[0m\u001b[0;36m1\u001b[0m\u001b[0;34m,\u001b[0m \u001b[0;34m:\u001b[0m\u001b[0;34m]\u001b[0m\u001b[0;34m.\u001b[0m\u001b[0mT\u001b[0m\u001b[0;34m,\u001b[0m \u001b[0mannot\u001b[0m\u001b[0;34m=\u001b[0m\u001b[0;32mTrue\u001b[0m\u001b[0;34m,\u001b[0m \u001b[0mcmap\u001b[0m\u001b[0;34m=\u001b[0m\u001b[0;34m\"YlGnBu\"\u001b[0m\u001b[0;34m)\u001b[0m\u001b[0;34m\u001b[0m\u001b[0;34m\u001b[0m\u001b[0m\n",
      "\u001b[0;32m/Library/Frameworks/Python.framework/Versions/3.11/lib/python3.11/site-packages/pandas/core/frame.py\u001b[0m in \u001b[0;36m?\u001b[0;34m(self, data, index, columns, dtype, copy)\u001b[0m\n\u001b[1;32m    837\u001b[0m                 )\n\u001b[1;32m    838\u001b[0m         \u001b[0;31m# For data is scalar\u001b[0m\u001b[0;34m\u001b[0m\u001b[0;34m\u001b[0m\u001b[0m\n\u001b[1;32m    839\u001b[0m         \u001b[0;32melse\u001b[0m\u001b[0;34m:\u001b[0m\u001b[0;34m\u001b[0m\u001b[0;34m\u001b[0m\u001b[0m\n\u001b[1;32m    840\u001b[0m             \u001b[0;32mif\u001b[0m \u001b[0mindex\u001b[0m \u001b[0;32mis\u001b[0m \u001b[0;32mNone\u001b[0m \u001b[0;32mor\u001b[0m \u001b[0mcolumns\u001b[0m \u001b[0;32mis\u001b[0m \u001b[0;32mNone\u001b[0m\u001b[0;34m:\u001b[0m\u001b[0;34m\u001b[0m\u001b[0;34m\u001b[0m\u001b[0m\n\u001b[0;32m--> 841\u001b[0;31m                 \u001b[0;32mraise\u001b[0m \u001b[0mValueError\u001b[0m\u001b[0;34m(\u001b[0m\u001b[0;34m\"DataFrame constructor not properly called!\"\u001b[0m\u001b[0;34m)\u001b[0m\u001b[0;34m\u001b[0m\u001b[0;34m\u001b[0m\u001b[0m\n\u001b[0m\u001b[1;32m    842\u001b[0m \u001b[0;34m\u001b[0m\u001b[0m\n\u001b[1;32m    843\u001b[0m             \u001b[0mindex\u001b[0m \u001b[0;34m=\u001b[0m \u001b[0mensure_index\u001b[0m\u001b[0;34m(\u001b[0m\u001b[0mindex\u001b[0m\u001b[0;34m)\u001b[0m\u001b[0;34m\u001b[0m\u001b[0;34m\u001b[0m\u001b[0m\n\u001b[1;32m    844\u001b[0m             \u001b[0mcolumns\u001b[0m \u001b[0;34m=\u001b[0m \u001b[0mensure_index\u001b[0m\u001b[0;34m(\u001b[0m\u001b[0mcolumns\u001b[0m\u001b[0;34m)\u001b[0m\u001b[0;34m\u001b[0m\u001b[0;34m\u001b[0m\u001b[0m\n",
      "\u001b[0;31mValueError\u001b[0m: DataFrame constructor not properly called!"
     ]
    }
   ],
   "source": [
    "import pandas as pd\n",
    "import numpy as np\n",
    "import seaborn as sns\n",
    "import matplotlib.pyplot as plt\n",
    "from sklearn.metrics import confusion_matrix, classification_report\n",
    "# 绘制混淆矩阵热图\n",
    "plt.figure(figsize=(8, 6))\n",
    "sns.heatmap(conf_matrix, annot=True, fmt=\"d\", cmap=\"YlGnBu\", xticklabels=['Support', 'Aganist', 'Neither'], yticklabels=['Support', 'Aganist', 'Neither'])\n",
    "plt.xlabel('Predicted')\n",
    "plt.ylabel('True')\n",
    "plt.show()\n",
    "\n",
    "# 绘制分类报告热图\n",
    "report_df = pd.DataFrame(class_report).transpose()\n",
    "\n",
    "plt.figure(figsize=(10, 6))\n",
    "sns.heatmap(report_df.iloc[:-1, :].T, annot=True, cmap=\"YlGnBu\")\n",
    "plt.title('Classification Report Heatmap')\n",
    "plt.show()"
   ]
  },
  {
   "cell_type": "code",
   "execution_count": 11,
   "metadata": {},
   "outputs": [
    {
     "name": "stderr",
     "output_type": "stream",
     "text": [
      "/var/folders/vq/5p2k6x290wzfc5dzz5xm78bm0000gp/T/ipykernel_10127/4231639426.py:4: SettingWithCopyWarning: \n",
      "A value is trying to be set on a copy of a slice from a DataFrame.\n",
      "Try using .loc[row_indexer,col_indexer] = value instead\n",
      "\n",
      "See the caveats in the documentation: https://pandas.pydata.org/pandas-docs/stable/user_guide/indexing.html#returning-a-view-versus-a-copy\n",
      "  file['stance'] = file['stance'].replace({'Support':0,'Aganist': 1, 'Neither': 2})\n",
      "/var/folders/vq/5p2k6x290wzfc5dzz5xm78bm0000gp/T/ipykernel_10127/4231639426.py:5: SettingWithCopyWarning: \n",
      "A value is trying to be set on a copy of a slice from a DataFrame.\n",
      "Try using .loc[row_indexer,col_indexer] = value instead\n",
      "\n",
      "See the caveats in the documentation: https://pandas.pydata.org/pandas-docs/stable/user_guide/indexing.html#returning-a-view-versus-a-copy\n",
      "  file['sentiment'] = file['sentiment'].replace({'Positive':0,'Negative': 1, 'Neither': 2})\n",
      "/var/folders/vq/5p2k6x290wzfc5dzz5xm78bm0000gp/T/ipykernel_10127/4231639426.py:6: SettingWithCopyWarning: \n",
      "A value is trying to be set on a copy of a slice from a DataFrame.\n",
      "Try using .loc[row_indexer,col_indexer] = value instead\n",
      "\n",
      "See the caveats in the documentation: https://pandas.pydata.org/pandas-docs/stable/user_guide/indexing.html#returning-a-view-versus-a-copy\n",
      "  file['content'] = file['content'].apply(remove_urls)\n",
      "/var/folders/vq/5p2k6x290wzfc5dzz5xm78bm0000gp/T/ipykernel_10127/4231639426.py:7: SettingWithCopyWarning: \n",
      "A value is trying to be set on a copy of a slice from a DataFrame.\n",
      "Try using .loc[row_indexer,col_indexer] = value instead\n",
      "\n",
      "See the caveats in the documentation: https://pandas.pydata.org/pandas-docs/stable/user_guide/indexing.html#returning-a-view-versus-a-copy\n",
      "  file['content'] = file['content'].apply(clean_text)\n"
     ]
    }
   ],
   "source": [
    "data = pd.read_excel('/Users/rachael/Downloads/test_df_labelled.xlsx')\n",
    "#the data verified by the third person will be used as the train set finally\n",
    "file =  data[['content','stance','sentiment']]\n",
    "file['stance'] = file['stance'].replace({'Support':0,'Aganist': 1, 'Neither': 2})\n",
    "file['sentiment'] = file['sentiment'].replace({'Positive':0,'Negative': 1, 'Neither': 2})\n",
    "file['content'] = file['content'].apply(remove_urls) \n",
    "file['content'] = file['content'].apply(clean_text) \n",
    "stance_0_sentiment = file[file['sentiment'] == 0][['content','stance']]\n",
    "stance_1_sentiment = file[file['sentiment'] == 1][['content','stance']]\n",
    "stance_2_sentiment = file[file['sentiment'] == 2][['content','stance']] "
   ]
  },
  {
   "cell_type": "code",
   "execution_count": 13,
   "metadata": {},
   "outputs": [
    {
     "name": "stdout",
     "output_type": "stream",
     "text": [
      "stance_0_class_report:               precision    recall  f1-score   support\n",
      "\n",
      "           0       0.85      0.44      0.58        25\n",
      "           1       0.06      0.20      0.09         5\n",
      "           2       0.43      0.38      0.40         8\n",
      "\n",
      "    accuracy                           0.39        38\n",
      "   macro avg       0.44      0.34      0.36        38\n",
      "weighted avg       0.65      0.39      0.48        38\n",
      "\n"
     ]
    }
   ],
   "source": [
    "stance_0_tokenized = stance_0_sentiment['content'].apply(tokenize)\n",
    "stance_0_embedding = np.array([sentence_to_avg_vec(sentence,ft) for sentence in stance_0_tokenized])\n",
    "stance_0_predictions = final_model.predict(stance_0_embedding )\n",
    "stance_0_class_report = classification_report(stance_0_sentiment['stance'], stance_0_predictions)\n",
    "print('stance_0_class_report:',stance_0_class_report)"
   ]
  },
  {
   "cell_type": "code",
   "execution_count": 14,
   "metadata": {},
   "outputs": [
    {
     "name": "stdout",
     "output_type": "stream",
     "text": [
      "stance_0_class_report:               precision    recall  f1-score   support\n",
      "\n",
      "           0       0.25      0.47      0.33        38\n",
      "           1       0.74      0.55      0.63       170\n",
      "           2       0.28      0.35      0.31        37\n",
      "\n",
      "    accuracy                           0.51       245\n",
      "   macro avg       0.42      0.46      0.42       245\n",
      "weighted avg       0.60      0.51      0.54       245\n",
      "\n"
     ]
    }
   ],
   "source": [
    "stance_1_tokenized = stance_1_sentiment['content'].apply(tokenize)\n",
    "stance_1_embedding = np.array([sentence_to_avg_vec(sentence,ft) for sentence in stance_1_tokenized])\n",
    "stance_1_predictions = final_model.predict(stance_1_embedding )\n",
    "stance_1_class_report = classification_report(stance_1_sentiment['stance'], stance_1_predictions)\n",
    "print('stance_0_class_report:',stance_1_class_report)"
   ]
  },
  {
   "cell_type": "code",
   "execution_count": 15,
   "metadata": {},
   "outputs": [
    {
     "name": "stdout",
     "output_type": "stream",
     "text": [
      "stance_0_class_report:               precision    recall  f1-score   support\n",
      "\n",
      "           0       0.18      0.31      0.23        13\n",
      "           1       0.24      0.62      0.34        16\n",
      "           2       0.87      0.55      0.67        95\n",
      "\n",
      "    accuracy                           0.53       124\n",
      "   macro avg       0.43      0.49      0.41       124\n",
      "weighted avg       0.71      0.53      0.58       124\n",
      "\n"
     ]
    }
   ],
   "source": [
    "stance_2_tokenized = stance_2_sentiment['content'].apply(tokenize)\n",
    "stance_2_embedding = np.array([sentence_to_avg_vec(sentence,ft) for sentence in stance_2_tokenized])\n",
    "stance_2_predictions = final_model.predict(stance_2_embedding )\n",
    "stance_2_class_report = classification_report(stance_2_sentiment['stance'], stance_2_predictions)\n",
    "print('stance_0_class_report:',stance_2_class_report)"
   ]
  },
  {
   "cell_type": "markdown",
   "metadata": {},
   "source": [
    "witheda"
   ]
  },
  {
   "cell_type": "code",
   "execution_count": 17,
   "metadata": {},
   "outputs": [
    {
     "name": "stdout",
     "output_type": "stream",
     "text": [
      "generated augmented sentences with eda for /Users/rachael/Desktop/data/sentiment_0.txt to /Users/rachael/Desktop/data/augmented_train0.txt with num_aug=6\n",
      "generated augmented sentences with eda for /Users/rachael/Desktop/data/sentiment_1.txt to /Users/rachael/Desktop/data/augmented_train1.txt with num_aug=2\n",
      "generated augmented sentences with eda for /Users/rachael/Desktop/data/sentiment_2.txt to /Users/rachael/Desktop/data/augmented_train2.txt with num_aug=3\n",
      "Fitting 3 folds for each of 100 candidates, totalling 300 fits\n",
      "Fold F1-score: 0.37447750644779276\n",
      "Best parameters: {'solver': 'lbfgs', 'max_iter': 20000, 'C': 10000.0}\n",
      "generated augmented sentences with eda for /Users/rachael/Desktop/data/sentiment_0.txt to /Users/rachael/Desktop/data/augmented_train0.txt with num_aug=6\n",
      "generated augmented sentences with eda for /Users/rachael/Desktop/data/sentiment_1.txt to /Users/rachael/Desktop/data/augmented_train1.txt with num_aug=2\n",
      "generated augmented sentences with eda for /Users/rachael/Desktop/data/sentiment_2.txt to /Users/rachael/Desktop/data/augmented_train2.txt with num_aug=3\n",
      "Fitting 3 folds for each of 100 candidates, totalling 300 fits\n",
      "Fold F1-score: 0.4450606895144839\n",
      "Best parameters: {'solver': 'lbfgs', 'max_iter': 20000, 'C': 10000.0}\n",
      "generated augmented sentences with eda for /Users/rachael/Desktop/data/sentiment_0.txt to /Users/rachael/Desktop/data/augmented_train0.txt with num_aug=6\n",
      "generated augmented sentences with eda for /Users/rachael/Desktop/data/sentiment_1.txt to /Users/rachael/Desktop/data/augmented_train1.txt with num_aug=2\n",
      "generated augmented sentences with eda for /Users/rachael/Desktop/data/sentiment_2.txt to /Users/rachael/Desktop/data/augmented_train2.txt with num_aug=3\n",
      "Fitting 3 folds for each of 100 candidates, totalling 300 fits\n",
      "Fold F1-score: 0.4651218062982769\n",
      "Best parameters: {'solver': 'lbfgs', 'max_iter': 20000, 'C': 10000.0}\n",
      "generated augmented sentences with eda for /Users/rachael/Desktop/data/sentiment_0.txt to /Users/rachael/Desktop/data/augmented_train0.txt with num_aug=6\n",
      "generated augmented sentences with eda for /Users/rachael/Desktop/data/sentiment_1.txt to /Users/rachael/Desktop/data/augmented_train1.txt with num_aug=2\n",
      "generated augmented sentences with eda for /Users/rachael/Desktop/data/sentiment_2.txt to /Users/rachael/Desktop/data/augmented_train2.txt with num_aug=3\n",
      "Fitting 3 folds for each of 100 candidates, totalling 300 fits\n",
      "Fold F1-score: 0.3735760971055089\n",
      "Best parameters: {'solver': 'lbfgs', 'max_iter': 20000, 'C': 10000.0}\n",
      "generated augmented sentences with eda for /Users/rachael/Desktop/data/sentiment_0.txt to /Users/rachael/Desktop/data/augmented_train0.txt with num_aug=6\n",
      "generated augmented sentences with eda for /Users/rachael/Desktop/data/sentiment_1.txt to /Users/rachael/Desktop/data/augmented_train1.txt with num_aug=2\n",
      "generated augmented sentences with eda for /Users/rachael/Desktop/data/sentiment_2.txt to /Users/rachael/Desktop/data/augmented_train2.txt with num_aug=3\n",
      "Fitting 3 folds for each of 100 candidates, totalling 300 fits\n",
      "Fold F1-score: 0.39062470992295556\n",
      "Best parameters: {'solver': 'lbfgs', 'max_iter': 20000, 'C': 10000.0}\n",
      "Mean F1-score: 0.4097721618578036\n",
      "Standard deviation of F1-scores: 0.03802987258333675\n",
      "Best parameters for each fold:\n",
      "Fold 1: {'solver': 'newton-cg', 'max_iter': 40000, 'C': 0.23357214690901212}\n",
      "Fold 2: {'solver': 'lbfgs', 'max_iter': 40000, 'C': 206.913808111479}\n",
      "Fold 3: {'solver': 'newton-cg', 'max_iter': 40000, 'C': 0.23357214690901212}\n",
      "Fold 4: {'solver': 'saga', 'max_iter': 20000, 'C': 10000.0}\n",
      "Fold 5: {'solver': 'lbfgs', 'max_iter': 40000, 'C': 206.913808111479}\n",
      "Fold 6: {'solver': 'lbfgs', 'max_iter': 20000, 'C': 10000.0}\n",
      "Fold 7: {'solver': 'lbfgs', 'max_iter': 20000, 'C': 10000.0}\n",
      "Fold 8: {'solver': 'lbfgs', 'max_iter': 20000, 'C': 10000.0}\n",
      "Fold 9: {'solver': 'lbfgs', 'max_iter': 20000, 'C': 10000.0}\n",
      "Fold 10: {'solver': 'lbfgs', 'max_iter': 20000, 'C': 10000.0}\n"
     ]
    }
   ],
   "source": [
    "# Stratified K-fold for maintaining label distribution, shuffle=True ensures different data splits in each iteration\n",
    "outer_cv = StratifiedKFold(n_splits=5, shuffle=True, random_state=42)\n",
    "inner_cv = StratifiedKFold(n_splits=3, shuffle=True, random_state=42)\n",
    "\n",
    "lr = LogisticRegression(multi_class='multinomial', random_state=42)\n",
    "randomized_search = RandomizedSearchCV(\n",
    "        estimator=lr,\n",
    "        param_distributions=param_dist,\n",
    "        n_iter=100,  # Number of parameter settings that are sampled\n",
    "        scoring='f1_macro',\n",
    "        n_jobs=-1,  # Use all available cores\n",
    "        cv=inner_cv,\n",
    "        random_state=42,\n",
    "        verbose=1\n",
    "    )\n",
    "\n",
    "# Loop over each fold\n",
    "for train_index, test_index in outer_cv.split(X, y):\n",
    "    trainX, testX = X.iloc[train_index], X.iloc[test_index]\n",
    "    trainy, testy = y.iloc[train_index], y.iloc[test_index]\n",
    "\n",
    "    # 将 y_train 和 y_test 转换为 DataFrame\n",
    "    y_train_df = pd.DataFrame(trainy).reset_index(drop=True)\n",
    "    y_test_df = pd.DataFrame(testy).reset_index(drop=True)\n",
    "\n",
    "    # 拼接 X_train 和 y_train 以及 X_test 和 y_test\n",
    "    train_df = pd.concat([trainX.reset_index(drop=True), y_train_df], axis=1)\n",
    "    test_df = pd.concat([testX.reset_index(drop=True), y_test_df], axis=1)\n",
    "\n",
    "    # 标准化处理文本\n",
    "    train_df['content'] = train_df['content'].apply(lambda x: ' '.join(x.split()))\n",
    "    sentiment_0 = train_df[train_df['stance'] == 0]\n",
    "    sentiment_1 = train_df[train_df['stance'] == 1]\n",
    "    sentiment_2 = train_df[train_df['stance'] == 2]\n",
    "\n",
    "    # 数据增强\n",
    "    output_file_path0 = '/Users/rachael/Desktop/data/sentiment_0.txt'\n",
    "    with open(output_file_path0, 'w', encoding='utf-8') as f:\n",
    "        for _, row in sentiment_0.iterrows():\n",
    "            f.write(f\"{row['stance']}\\t{row['content']}\\n\")\n",
    "\n",
    "    subprocess.run([\n",
    "        'python', '/Users/rachael/Desktop/data/augment.py',\n",
    "        '--input', output_file_path0,\n",
    "        '--output', '/Users/rachael/Desktop/data/augmented_train0.txt',\n",
    "        '--num_aug', '6',\n",
    "        '--alpha_sr', '0.1',\n",
    "        '--alpha_rd', '0.1',\n",
    "        '--alpha_ri', '0.1',\n",
    "        '--alpha_rs', '0.1'\n",
    "    ])\n",
    "\n",
    "    output_file_path1 = '/Users/rachael/Desktop/data/sentiment_1.txt'\n",
    "    with open(output_file_path1, 'w', encoding='utf-8') as f:\n",
    "        for _, row in sentiment_1.iterrows():\n",
    "            f.write(f\"{row['stance']}\\t{row['content']}\\n\")\n",
    "\n",
    "    subprocess.run([\n",
    "        'python', '/Users/rachael/Desktop/data/augment.py',\n",
    "        '--input', output_file_path1,\n",
    "        '--output', '/Users/rachael/Desktop/data/augmented_train1.txt',\n",
    "        '--num_aug', '2',\n",
    "        '--alpha_sr', '0.1',\n",
    "        '--alpha_rd', '0.1',\n",
    "        '--alpha_ri', '0.1',\n",
    "        '--alpha_rs', '0.1'\n",
    "    ])\n",
    "\n",
    "    output_file_path2 = '/Users/rachael/Desktop/data/sentiment_2.txt'\n",
    "    with open(output_file_path2, 'w', encoding='utf-8') as f:\n",
    "        for _, row in sentiment_2.iterrows():\n",
    "            f.write(f\"{row['stance']}\\t{row['content']}\\n\")\n",
    "\n",
    "    subprocess.run([\n",
    "        'python', '/Users/rachael/Desktop/data/augment.py',\n",
    "        '--input', output_file_path2,\n",
    "        '--output', '/Users/rachael/Desktop/data/augmented_train2.txt',\n",
    "        '--num_aug', '3',\n",
    "        '--alpha_sr', '0.1',\n",
    "        '--alpha_rd', '0.1',\n",
    "        '--alpha_ri', '0.1',\n",
    "        '--alpha_rs', '0.1'\n",
    "    ])\n",
    "\n",
    "    # Load augmented data\n",
    "    file4 = pd.read_csv('/Users/rachael/Desktop/data/augmented_train0.txt', delimiter='\\t', header=None, names=['stance', 'content'])\n",
    "    file5 = pd.read_csv('/Users/rachael/Desktop/data/augmented_train1.txt', delimiter='\\t', header=None, names=['stance', 'content'])\n",
    "    file6 = pd.read_csv('/Users/rachael/Desktop/data/augmented_train2.txt', delimiter='\\t', header=None, names=['stance', 'content'])\n",
    "    augmented_train = pd.concat([file4, file5, file6])\n",
    "\n",
    "    #process train data\n",
    "    augmented_train['content'] = augmented_train['content'].astype(str)\n",
    "    train_sentences = [item for item in list(augmented_train['content'])]\n",
    "    train_labels = [int(item) for item in list(augmented_train['stance'])]\n",
    "    X_train_tokenized = [tokenize(sentence) for sentence in train_sentences]\n",
    "    train_vectors = np.array([sentence_to_avg_vec(sentence,ft) for sentence in X_train_tokenized])\n",
    "\n",
    "    test_df['content'] = test_df['content'].astype(str)\n",
    "    test_sentences = [item for item in list(test_df['content'])]\n",
    "    test_labels = [int(item) for item in list(test_df['stance'])]\n",
    "    X_test_tokenized = [tokenize(sentence) for sentence in test_sentences]\n",
    "    test_vectors = np.array([sentence_to_avg_vec(sentence,ft) for sentence in X_test_tokenized])\n",
    "\n",
    "    # Fit Randomized Search\n",
    "    randomized_search.fit(train_vectors, train_labels)\n",
    "\n",
    "    # Get the best model from Randomized Search\n",
    "    best_model = randomized_search.best_estimator_\n",
    "    best_params = randomized_search.best_params_\n",
    "    best_score = randomized_search.best_score_\n",
    "\n",
    "    # Evaluate on the test set\n",
    "    test_predictions = best_model.predict(test_vectors)\n",
    "    test_f1_score = f1_score(test_labels, test_predictions,average ='macro')\n",
    "\n",
    "    f1_scores.append(test_f1_score)\n",
    "    best_params_list.append(best_params)\n",
    "\n",
    "    print(f\"Fold F1-score: {test_f1_score}\")\n",
    "    print(f\"Best parameters: {best_params}\")\n",
    "\n",
    "# Summarize the results\n",
    "mean_f1_score = np.mean(f1_scores)\n",
    "std_f1_score = np.std(f1_scores)\n",
    "\n",
    "print(f\"Mean F1-score: {mean_f1_score}\")\n",
    "print(f\"Standard deviation of F1-scores: {std_f1_score}\")\n",
    "print(\"Best parameters for each fold:\")\n",
    "for i, params in enumerate(best_params_list):\n",
    "    print(f\"Fold {i + 1}: {params}\")"
   ]
  },
  {
   "cell_type": "code",
   "execution_count": 18,
   "metadata": {},
   "outputs": [
    {
     "name": "stdout",
     "output_type": "stream",
     "text": [
      "Most common best parameters: {'C': 10000.0, 'max_iter': 20000, 'solver': 'lbfgs'}\n"
     ]
    }
   ],
   "source": [
    "from collections import Counter\n",
    "best_params_counter = Counter(tuple(sorted(params.items())) for params in best_params_list)\n",
    "most_common_params = dict(best_params_counter.most_common(1)[0][0])\n",
    "\n",
    "print(\"Most common best parameters:\", most_common_params)"
   ]
  },
  {
   "cell_type": "code",
   "execution_count": 13,
   "metadata": {},
   "outputs": [],
   "source": [
    "most_common_params = {'solver': 'lbfgs', 'max_iter': 20000, 'C': 10000.0}\n"
   ]
  },
  {
   "cell_type": "code",
   "execution_count": 14,
   "metadata": {},
   "outputs": [
    {
     "data": {
      "text/html": [
       "<style>#sk-container-id-3 {color: black;}#sk-container-id-3 pre{padding: 0;}#sk-container-id-3 div.sk-toggleable {background-color: white;}#sk-container-id-3 label.sk-toggleable__label {cursor: pointer;display: block;width: 100%;margin-bottom: 0;padding: 0.3em;box-sizing: border-box;text-align: center;}#sk-container-id-3 label.sk-toggleable__label-arrow:before {content: \"▸\";float: left;margin-right: 0.25em;color: #696969;}#sk-container-id-3 label.sk-toggleable__label-arrow:hover:before {color: black;}#sk-container-id-3 div.sk-estimator:hover label.sk-toggleable__label-arrow:before {color: black;}#sk-container-id-3 div.sk-toggleable__content {max-height: 0;max-width: 0;overflow: hidden;text-align: left;background-color: #f0f8ff;}#sk-container-id-3 div.sk-toggleable__content pre {margin: 0.2em;color: black;border-radius: 0.25em;background-color: #f0f8ff;}#sk-container-id-3 input.sk-toggleable__control:checked~div.sk-toggleable__content {max-height: 200px;max-width: 100%;overflow: auto;}#sk-container-id-3 input.sk-toggleable__control:checked~label.sk-toggleable__label-arrow:before {content: \"▾\";}#sk-container-id-3 div.sk-estimator input.sk-toggleable__control:checked~label.sk-toggleable__label {background-color: #d4ebff;}#sk-container-id-3 div.sk-label input.sk-toggleable__control:checked~label.sk-toggleable__label {background-color: #d4ebff;}#sk-container-id-3 input.sk-hidden--visually {border: 0;clip: rect(1px 1px 1px 1px);clip: rect(1px, 1px, 1px, 1px);height: 1px;margin: -1px;overflow: hidden;padding: 0;position: absolute;width: 1px;}#sk-container-id-3 div.sk-estimator {font-family: monospace;background-color: #f0f8ff;border: 1px dotted black;border-radius: 0.25em;box-sizing: border-box;margin-bottom: 0.5em;}#sk-container-id-3 div.sk-estimator:hover {background-color: #d4ebff;}#sk-container-id-3 div.sk-parallel-item::after {content: \"\";width: 100%;border-bottom: 1px solid gray;flex-grow: 1;}#sk-container-id-3 div.sk-label:hover label.sk-toggleable__label {background-color: #d4ebff;}#sk-container-id-3 div.sk-serial::before {content: \"\";position: absolute;border-left: 1px solid gray;box-sizing: border-box;top: 0;bottom: 0;left: 50%;z-index: 0;}#sk-container-id-3 div.sk-serial {display: flex;flex-direction: column;align-items: center;background-color: white;padding-right: 0.2em;padding-left: 0.2em;position: relative;}#sk-container-id-3 div.sk-item {position: relative;z-index: 1;}#sk-container-id-3 div.sk-parallel {display: flex;align-items: stretch;justify-content: center;background-color: white;position: relative;}#sk-container-id-3 div.sk-item::before, #sk-container-id-3 div.sk-parallel-item::before {content: \"\";position: absolute;border-left: 1px solid gray;box-sizing: border-box;top: 0;bottom: 0;left: 50%;z-index: -1;}#sk-container-id-3 div.sk-parallel-item {display: flex;flex-direction: column;z-index: 1;position: relative;background-color: white;}#sk-container-id-3 div.sk-parallel-item:first-child::after {align-self: flex-end;width: 50%;}#sk-container-id-3 div.sk-parallel-item:last-child::after {align-self: flex-start;width: 50%;}#sk-container-id-3 div.sk-parallel-item:only-child::after {width: 0;}#sk-container-id-3 div.sk-dashed-wrapped {border: 1px dashed gray;margin: 0 0.4em 0.5em 0.4em;box-sizing: border-box;padding-bottom: 0.4em;background-color: white;}#sk-container-id-3 div.sk-label label {font-family: monospace;font-weight: bold;display: inline-block;line-height: 1.2em;}#sk-container-id-3 div.sk-label-container {text-align: center;}#sk-container-id-3 div.sk-container {/* jupyter's `normalize.less` sets `[hidden] { display: none; }` but bootstrap.min.css set `[hidden] { display: none !important; }` so we also need the `!important` here to be able to override the default hidden behavior on the sphinx rendered scikit-learn.org. See: https://github.com/scikit-learn/scikit-learn/issues/21755 */display: inline-block !important;position: relative;}#sk-container-id-3 div.sk-text-repr-fallback {display: none;}</style><div id=\"sk-container-id-3\" class=\"sk-top-container\"><div class=\"sk-text-repr-fallback\"><pre>LogisticRegression(C=10000.0, class_weight=&#x27;balanced&#x27;, max_iter=20000,\n",
       "                   multi_class=&#x27;multinomial&#x27;, random_state=42)</pre><b>In a Jupyter environment, please rerun this cell to show the HTML representation or trust the notebook. <br />On GitHub, the HTML representation is unable to render, please try loading this page with nbviewer.org.</b></div><div class=\"sk-container\" hidden><div class=\"sk-item\"><div class=\"sk-estimator sk-toggleable\"><input class=\"sk-toggleable__control sk-hidden--visually\" id=\"sk-estimator-id-3\" type=\"checkbox\" checked><label for=\"sk-estimator-id-3\" class=\"sk-toggleable__label sk-toggleable__label-arrow\">LogisticRegression</label><div class=\"sk-toggleable__content\"><pre>LogisticRegression(C=10000.0, class_weight=&#x27;balanced&#x27;, max_iter=20000,\n",
       "                   multi_class=&#x27;multinomial&#x27;, random_state=42)</pre></div></div></div></div></div>"
      ],
      "text/plain": [
       "LogisticRegression(C=10000.0, class_weight='balanced', max_iter=20000,\n",
       "                   multi_class='multinomial', random_state=42)"
      ]
     },
     "execution_count": 14,
     "metadata": {},
     "output_type": "execute_result"
    }
   ],
   "source": [
    "X_sentences = [item for item in list(X)]\n",
    "X_tokenized = X.apply(tokenize)\n",
    "X_embeddings = np.array([sentence_to_avg_vec(sentence,ft) for sentence in X_tokenized])\n",
    "\n",
    "final_model = LogisticRegression(multi_class='multinomial', random_state=42, **most_common_params,class_weight='balanced')\n",
    "final_model.fit(X_embeddings, y)"
   ]
  },
  {
   "cell_type": "code",
   "execution_count": 15,
   "metadata": {},
   "outputs": [
    {
     "name": "stdout",
     "output_type": "stream",
     "text": [
      "              precision    recall  f1-score   support\n",
      "\n",
      "           0       0.32      0.38      0.35        76\n",
      "           1       0.56      0.57      0.56       191\n",
      "           2       0.55      0.47      0.51       140\n",
      "\n",
      "    accuracy                           0.50       407\n",
      "   macro avg       0.47      0.47      0.47       407\n",
      "weighted avg       0.51      0.50      0.50       407\n",
      "\n"
     ]
    }
   ],
   "source": [
    "test = pd.read_excel('/Users/rachael/Downloads/test_df_labelled.xlsx')\n",
    "#process test data \n",
    "test = test[['content','stance']]\n",
    "test['content'] = test['content'].apply(remove_urls) \n",
    "test['content'] = test['content'].apply(clean_text) \n",
    "test['stance'] = test['stance'].replace({'Support':0,'Aganist': 1, 'Neither': 2})\n",
    "test_tokenized = test['content'].apply(tokenize)\n",
    "test_embedding = np.array([sentence_to_avg_vec(sentence,ft) for sentence in test_tokenized])\n",
    "#predict \n",
    "test_predictions = final_model.predict(test_embedding)\n",
    "conf_matrix = confusion_matrix(test['stance'], test_predictions)\n",
    "class_report = classification_report(test['stance'], test_predictions)\n",
    "print(class_report)"
   ]
  },
  {
   "cell_type": "code",
   "execution_count": 21,
   "metadata": {},
   "outputs": [
    {
     "name": "stdout",
     "output_type": "stream",
     "text": [
      "Most common best parameters: {'C': 10000.0, 'max_iter': 20000, 'solver': 'lbfgs'}\n"
     ]
    }
   ],
   "source": [
    "from collections import Counter\n",
    "best_params_counter = Counter(tuple(sorted(params.items())) for params in best_params_list)\n",
    "most_common_params = dict(best_params_counter.most_common(1)[0][0])\n",
    "\n",
    "print(\"Most common best parameters:\", most_common_params)"
   ]
  },
  {
   "cell_type": "code",
   "execution_count": 22,
   "metadata": {},
   "outputs": [],
   "source": [
    "most_common_params =  {'C': 10000.0, 'max_iter': 20000, 'solver': 'lbfgs'}"
   ]
  },
  {
   "cell_type": "code",
   "execution_count": 23,
   "metadata": {},
   "outputs": [
    {
     "data": {
      "text/html": [
       "<style>#sk-container-id-4 {color: black;}#sk-container-id-4 pre{padding: 0;}#sk-container-id-4 div.sk-toggleable {background-color: white;}#sk-container-id-4 label.sk-toggleable__label {cursor: pointer;display: block;width: 100%;margin-bottom: 0;padding: 0.3em;box-sizing: border-box;text-align: center;}#sk-container-id-4 label.sk-toggleable__label-arrow:before {content: \"▸\";float: left;margin-right: 0.25em;color: #696969;}#sk-container-id-4 label.sk-toggleable__label-arrow:hover:before {color: black;}#sk-container-id-4 div.sk-estimator:hover label.sk-toggleable__label-arrow:before {color: black;}#sk-container-id-4 div.sk-toggleable__content {max-height: 0;max-width: 0;overflow: hidden;text-align: left;background-color: #f0f8ff;}#sk-container-id-4 div.sk-toggleable__content pre {margin: 0.2em;color: black;border-radius: 0.25em;background-color: #f0f8ff;}#sk-container-id-4 input.sk-toggleable__control:checked~div.sk-toggleable__content {max-height: 200px;max-width: 100%;overflow: auto;}#sk-container-id-4 input.sk-toggleable__control:checked~label.sk-toggleable__label-arrow:before {content: \"▾\";}#sk-container-id-4 div.sk-estimator input.sk-toggleable__control:checked~label.sk-toggleable__label {background-color: #d4ebff;}#sk-container-id-4 div.sk-label input.sk-toggleable__control:checked~label.sk-toggleable__label {background-color: #d4ebff;}#sk-container-id-4 input.sk-hidden--visually {border: 0;clip: rect(1px 1px 1px 1px);clip: rect(1px, 1px, 1px, 1px);height: 1px;margin: -1px;overflow: hidden;padding: 0;position: absolute;width: 1px;}#sk-container-id-4 div.sk-estimator {font-family: monospace;background-color: #f0f8ff;border: 1px dotted black;border-radius: 0.25em;box-sizing: border-box;margin-bottom: 0.5em;}#sk-container-id-4 div.sk-estimator:hover {background-color: #d4ebff;}#sk-container-id-4 div.sk-parallel-item::after {content: \"\";width: 100%;border-bottom: 1px solid gray;flex-grow: 1;}#sk-container-id-4 div.sk-label:hover label.sk-toggleable__label {background-color: #d4ebff;}#sk-container-id-4 div.sk-serial::before {content: \"\";position: absolute;border-left: 1px solid gray;box-sizing: border-box;top: 0;bottom: 0;left: 50%;z-index: 0;}#sk-container-id-4 div.sk-serial {display: flex;flex-direction: column;align-items: center;background-color: white;padding-right: 0.2em;padding-left: 0.2em;position: relative;}#sk-container-id-4 div.sk-item {position: relative;z-index: 1;}#sk-container-id-4 div.sk-parallel {display: flex;align-items: stretch;justify-content: center;background-color: white;position: relative;}#sk-container-id-4 div.sk-item::before, #sk-container-id-4 div.sk-parallel-item::before {content: \"\";position: absolute;border-left: 1px solid gray;box-sizing: border-box;top: 0;bottom: 0;left: 50%;z-index: -1;}#sk-container-id-4 div.sk-parallel-item {display: flex;flex-direction: column;z-index: 1;position: relative;background-color: white;}#sk-container-id-4 div.sk-parallel-item:first-child::after {align-self: flex-end;width: 50%;}#sk-container-id-4 div.sk-parallel-item:last-child::after {align-self: flex-start;width: 50%;}#sk-container-id-4 div.sk-parallel-item:only-child::after {width: 0;}#sk-container-id-4 div.sk-dashed-wrapped {border: 1px dashed gray;margin: 0 0.4em 0.5em 0.4em;box-sizing: border-box;padding-bottom: 0.4em;background-color: white;}#sk-container-id-4 div.sk-label label {font-family: monospace;font-weight: bold;display: inline-block;line-height: 1.2em;}#sk-container-id-4 div.sk-label-container {text-align: center;}#sk-container-id-4 div.sk-container {/* jupyter's `normalize.less` sets `[hidden] { display: none; }` but bootstrap.min.css set `[hidden] { display: none !important; }` so we also need the `!important` here to be able to override the default hidden behavior on the sphinx rendered scikit-learn.org. See: https://github.com/scikit-learn/scikit-learn/issues/21755 */display: inline-block !important;position: relative;}#sk-container-id-4 div.sk-text-repr-fallback {display: none;}</style><div id=\"sk-container-id-4\" class=\"sk-top-container\"><div class=\"sk-text-repr-fallback\"><pre>LogisticRegression(C=10000.0, class_weight=&#x27;balanced&#x27;, max_iter=20000,\n",
       "                   multi_class=&#x27;multinomial&#x27;, random_state=42)</pre><b>In a Jupyter environment, please rerun this cell to show the HTML representation or trust the notebook. <br />On GitHub, the HTML representation is unable to render, please try loading this page with nbviewer.org.</b></div><div class=\"sk-container\" hidden><div class=\"sk-item\"><div class=\"sk-estimator sk-toggleable\"><input class=\"sk-toggleable__control sk-hidden--visually\" id=\"sk-estimator-id-4\" type=\"checkbox\" checked><label for=\"sk-estimator-id-4\" class=\"sk-toggleable__label sk-toggleable__label-arrow\">LogisticRegression</label><div class=\"sk-toggleable__content\"><pre>LogisticRegression(C=10000.0, class_weight=&#x27;balanced&#x27;, max_iter=20000,\n",
       "                   multi_class=&#x27;multinomial&#x27;, random_state=42)</pre></div></div></div></div></div>"
      ],
      "text/plain": [
       "LogisticRegression(C=10000.0, class_weight='balanced', max_iter=20000,\n",
       "                   multi_class='multinomial', random_state=42)"
      ]
     },
     "execution_count": 23,
     "metadata": {},
     "output_type": "execute_result"
    }
   ],
   "source": [
    "X_sentences = [item for item in list(X)]\n",
    "X_tokenized = X.apply(tokenize)\n",
    "X_embeddings = np.array([sentence_to_avg_vec(sentence,ft) for sentence in X_tokenized])\n",
    "\n",
    "final_model1 = LogisticRegression(multi_class='multinomial', random_state=42, **most_common_params,class_weight='balanced')\n",
    "final_model1.fit(X_embeddings, y)"
   ]
  },
  {
   "cell_type": "code",
   "execution_count": 25,
   "metadata": {},
   "outputs": [
    {
     "name": "stdout",
     "output_type": "stream",
     "text": [
      "              precision    recall  f1-score   support\n",
      "\n",
      "           0       0.32      0.38      0.35        76\n",
      "           1       0.56      0.57      0.56       191\n",
      "           2       0.55      0.47      0.51       140\n",
      "\n",
      "    accuracy                           0.50       407\n",
      "   macro avg       0.47      0.47      0.47       407\n",
      "weighted avg       0.51      0.50      0.50       407\n",
      "\n"
     ]
    }
   ],
   "source": [
    "test = pd.read_excel('/Users/rachael/Downloads/test_df_labelled.xlsx')\n",
    "#process test data \n",
    "test = test[['content','stance']]\n",
    "test['content'] = test['content'].apply(remove_urls) \n",
    "test['content'] = test['content'].apply(clean_text) \n",
    "test['stance'] = test['stance'].replace({'Support':0,'Aganist': 1, 'Neither': 2})\n",
    "test_tokenized = test['content'].apply(tokenize)\n",
    "test_embedding = np.array([sentence_to_avg_vec(sentence,ft) for sentence in test_tokenized])\n",
    "#predict \n",
    "test_predictions = final_model1.predict(test_embedding)\n",
    "conf_matrix = confusion_matrix(test['stance'], test_predictions)\n",
    "class_report = classification_report(test['stance'], test_predictions)\n",
    "print(class_report)"
   ]
  },
  {
   "cell_type": "code",
   "execution_count": 26,
   "metadata": {},
   "outputs": [
    {
     "name": "stderr",
     "output_type": "stream",
     "text": [
      "/var/folders/vq/5p2k6x290wzfc5dzz5xm78bm0000gp/T/ipykernel_3580/2001043649.py:4: SettingWithCopyWarning: \n",
      "A value is trying to be set on a copy of a slice from a DataFrame.\n",
      "Try using .loc[row_indexer,col_indexer] = value instead\n",
      "\n",
      "See the caveats in the documentation: https://pandas.pydata.org/pandas-docs/stable/user_guide/indexing.html#returning-a-view-versus-a-copy\n",
      "  file['stance'] = file['stance'].replace({'Support':0,'Aganist': 1, 'Neither': 2})\n",
      "/var/folders/vq/5p2k6x290wzfc5dzz5xm78bm0000gp/T/ipykernel_3580/2001043649.py:5: SettingWithCopyWarning: \n",
      "A value is trying to be set on a copy of a slice from a DataFrame.\n",
      "Try using .loc[row_indexer,col_indexer] = value instead\n",
      "\n",
      "See the caveats in the documentation: https://pandas.pydata.org/pandas-docs/stable/user_guide/indexing.html#returning-a-view-versus-a-copy\n",
      "  file['sentiment'] = file['sentiment'].replace({'Positive':0,'Negative': 1, 'Neither': 2})\n",
      "/var/folders/vq/5p2k6x290wzfc5dzz5xm78bm0000gp/T/ipykernel_3580/2001043649.py:6: SettingWithCopyWarning: \n",
      "A value is trying to be set on a copy of a slice from a DataFrame.\n",
      "Try using .loc[row_indexer,col_indexer] = value instead\n",
      "\n",
      "See the caveats in the documentation: https://pandas.pydata.org/pandas-docs/stable/user_guide/indexing.html#returning-a-view-versus-a-copy\n",
      "  file['content'] = file['content'].apply(remove_urls)\n",
      "/var/folders/vq/5p2k6x290wzfc5dzz5xm78bm0000gp/T/ipykernel_3580/2001043649.py:7: SettingWithCopyWarning: \n",
      "A value is trying to be set on a copy of a slice from a DataFrame.\n",
      "Try using .loc[row_indexer,col_indexer] = value instead\n",
      "\n",
      "See the caveats in the documentation: https://pandas.pydata.org/pandas-docs/stable/user_guide/indexing.html#returning-a-view-versus-a-copy\n",
      "  file['content'] = file['content'].apply(clean_text)\n"
     ]
    }
   ],
   "source": [
    "data = pd.read_excel('/Users/rachael/Downloads/test_df_labelled.xlsx')\n",
    "#the data verified by the third person will be used as the train set finally\n",
    "file =  data[['content','stance','sentiment']]\n",
    "file['stance'] = file['stance'].replace({'Support':0,'Aganist': 1, 'Neither': 2})\n",
    "file['sentiment'] = file['sentiment'].replace({'Positive':0,'Negative': 1, 'Neither': 2})\n",
    "file['content'] = file['content'].apply(remove_urls) \n",
    "file['content'] = file['content'].apply(clean_text) \n",
    "stance_0_sentiment = file[file['stance'] == 0][['content','sentiment']]\n",
    "stance_1_sentiment = file[file['stance'] == 1][['content','sentiment']]\n",
    "stance_2_sentiment = file[file['stance'] == 2][['content','sentiment']] "
   ]
  },
  {
   "cell_type": "code",
   "execution_count": 28,
   "metadata": {},
   "outputs": [
    {
     "name": "stdout",
     "output_type": "stream",
     "text": [
      "stance_0_class_report:               precision    recall  f1-score   support\n",
      "\n",
      "           0       0.41      0.48      0.44        25\n",
      "           1       0.57      0.53      0.55        38\n",
      "           2       0.25      0.23      0.24        13\n",
      "\n",
      "    accuracy                           0.46        76\n",
      "   macro avg       0.41      0.41      0.41        76\n",
      "weighted avg       0.46      0.46      0.46        76\n",
      "\n"
     ]
    }
   ],
   "source": [
    "stance_0_tokenized = stance_0_sentiment['content'].apply(tokenize)\n",
    "stance_0_embedding = np.array([sentence_to_avg_vec(sentence,ft) for sentence in stance_0_tokenized])\n",
    "stance_0_predictions = final_model1.predict(stance_0_embedding )\n",
    "stance_0_class_report = classification_report(stance_0_sentiment['sentiment'], stance_0_predictions)\n",
    "print('stance_0_class_report:',stance_0_class_report)"
   ]
  },
  {
   "cell_type": "code",
   "execution_count": 31,
   "metadata": {},
   "outputs": [
    {
     "name": "stdout",
     "output_type": "stream",
     "text": [
      "stance_0_class_report:               precision    recall  f1-score   support\n",
      "\n",
      "           0       0.03      0.20      0.04         5\n",
      "           1       0.90      0.58      0.70       170\n",
      "           2       0.14      0.38      0.21        16\n",
      "\n",
      "    accuracy                           0.55       191\n",
      "   macro avg       0.36      0.38      0.32       191\n",
      "weighted avg       0.81      0.55      0.64       191\n",
      "\n"
     ]
    }
   ],
   "source": [
    "stance_1_tokenized = stance_1_sentiment['content'].apply(tokenize)\n",
    "stance_1_embedding = np.array([sentence_to_avg_vec(sentence,ft) for sentence in stance_1_tokenized])\n",
    "stance_1_predictions = final_model1.predict(stance_1_embedding )\n",
    "stance_1_class_report = classification_report(stance_1_sentiment['sentiment'], stance_1_predictions)\n",
    "print('stance_0_class_report:',stance_1_class_report)"
   ]
  },
  {
   "cell_type": "code",
   "execution_count": 32,
   "metadata": {},
   "outputs": [
    {
     "name": "stdout",
     "output_type": "stream",
     "text": [
      "stance_0_class_report:               precision    recall  f1-score   support\n",
      "\n",
      "           0       0.04      0.12      0.06         8\n",
      "           1       0.37      0.51      0.43        37\n",
      "           2       0.76      0.53      0.62        95\n",
      "\n",
      "    accuracy                           0.50       140\n",
      "   macro avg       0.39      0.39      0.37       140\n",
      "weighted avg       0.62      0.50      0.54       140\n",
      "\n"
     ]
    }
   ],
   "source": [
    "stance_2_tokenized = stance_2_sentiment['content'].apply(tokenize)\n",
    "stance_2_embedding = np.array([sentence_to_avg_vec(sentence,ft) for sentence in stance_2_tokenized])\n",
    "stance_2_predictions = final_model1.predict(stance_2_embedding )\n",
    "stance_2_class_report = classification_report(stance_2_sentiment['sentiment'], stance_2_predictions)\n",
    "print('stance_0_class_report:',stance_2_class_report)"
   ]
  }
 ],
 "metadata": {
  "kernelspec": {
   "display_name": "Python 3",
   "language": "python",
   "name": "python3"
  },
  "language_info": {
   "codemirror_mode": {
    "name": "ipython",
    "version": 3
   },
   "file_extension": ".py",
   "mimetype": "text/x-python",
   "name": "python",
   "nbconvert_exporter": "python",
   "pygments_lexer": "ipython3",
   "version": "3.11.1"
  }
 },
 "nbformat": 4,
 "nbformat_minor": 2
}
